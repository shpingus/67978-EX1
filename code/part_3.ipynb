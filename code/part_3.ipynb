{
 "cells": [
  {
   "cell_type": "markdown",
   "id": "785f1193",
   "metadata": {},
   "source": [
    "## Part 3 - Feature Engineering"
   ]
  },
  {
   "cell_type": "code",
   "execution_count": 9,
   "id": "a86e1b9f",
   "metadata": {},
   "outputs": [],
   "source": [
    "import pandas as pd\n",
    "import numpy as np\n"
   ]
  },
  {
   "cell_type": "code",
   "execution_count": 10,
   "id": "623ae37d",
   "metadata": {},
   "outputs": [],
   "source": [
    "output_path = \"../output/\"\n",
    "df_demographics = pd.read_csv(output_path + 'demographics_data.csv')\n",
    "df_gdp = pd.read_csv('../gdp_per_capita_2021.csv')\n",
    "df_pop = pd.read_csv('../population_2021.csv')\n"
   ]
  },
  {
   "cell_type": "markdown",
   "id": "fae0cf34",
   "metadata": {},
   "source": [
    "## 5.1 New Feature"
   ]
  },
  {
   "cell_type": "code",
   "execution_count": 19,
   "id": "4fa3eb17",
   "metadata": {},
   "outputs": [],
   "source": [
    "def create_total_gdp(df_final):\n",
    "    \"\"\"\n",
    "    Creates a Total GDP feature by multiplying GDP per capita PPP and Population\n",
    "    \"\"\"\n",
    "    print(\"Creating Total GDP feature...\")\n",
    "    \n",
    "    # Calculate Total GDP = GDP per capita PPP × Population\n",
    "    df_final['TotalGDP'] = df_final['GDP_per_capita_PPP'] * df_final['Population']\n",
    "    \n",
    "    print(f\"Total GDP feature created.\\n\")\n",
    "    return df_final\n"
   ]
  },
  {
   "cell_type": "markdown",
   "id": "db989c51",
   "metadata": {},
   "source": [
    "## 5.2 Log Transforms"
   ]
  },
  {
   "cell_type": "code",
   "execution_count": 21,
   "id": "4b2eb84d",
   "metadata": {},
   "outputs": [],
   "source": [
    "def apply_log_transforms(df_final):\n",
    "    \"\"\"\n",
    "    Applies log10 transformations to GDP per capita PPP and Population\n",
    "    \"\"\"\n",
    "    print(\"Applying log transformations...\")\n",
    "    \n",
    "    # Check for non-positive values before log transformation\n",
    "    if (df_final['GDP_per_capita_PPP'] <= 0).any():\n",
    "        print(\"Warning: Some GDP per capita values are non-positive. These will be clipped to a small positive value.\")\n",
    "    \n",
    "    if (df_final['Population'] <= 0).any():\n",
    "        print(\"Warning: Some Population values are non-positive. These will be clipped to a small positive value.\")\n",
    "    \n",
    "    # Apply log10 transformation to GDP per capita PPP\n",
    "    df_final['LogGDPperCapita'] = np.log10(df_final['GDP_per_capita_PPP'].clip(lower=1e-10))\n",
    "    \n",
    "    # Apply log10 transformation to Population\n",
    "    df_final['LogPopulation'] = np.log10(df_final['Population'].clip(lower=1e-10))\n",
    "    \n",
    "    print(\"Log transformations completed.\\n\")\n",
    "    return df_final"
   ]
  },
  {
   "cell_type": "markdown",
   "id": "4b3f7066",
   "metadata": {},
   "source": [
    "create feature matrix"
   ]
  },
  {
   "cell_type": "code",
   "execution_count": 22,
   "id": "154da26d",
   "metadata": {},
   "outputs": [],
   "source": [
    "def create_feature_matrix(df_final, output_path):\n",
    "    \"\"\"\n",
    "    Builds the final feature matrix and saves it to X.npy\n",
    "    \"\"\"\n",
    "    print(\"Creating final feature matrix...\")\n",
    "    \n",
    "    # Sort the DataFrame by Country index\n",
    "    df_final_sorted = df_final.sort_index()\n",
    "    \n",
    "    # Create array of normalized features in the required order\n",
    "    features = ['LifeExpectancy_Both', 'LogGDPperCapita', 'LogPopulation']\n",
    "    X = df_final_sorted[[f\"Normalized_{feature}\" for feature in features]].values\n",
    "    \n",
    "    # Save to output/X.npy\n",
    "    np.save(output_path + 'X.npy', X)\n",
    "    \n",
    "    print(f\"Feature matrix with shape {X.shape} saved to {output_path}X.npy\\n\")\n",
    "    return X"
   ]
  },
  {
   "cell_type": "markdown",
   "id": "96f1b246",
   "metadata": {},
   "source": [
    "## 5.3 Scaling"
   ]
  },
  {
   "cell_type": "code",
   "execution_count": 23,
   "id": "e9c941da",
   "metadata": {},
   "outputs": [],
   "source": [
    "def normalize_features(df_final, output_path):\n",
    "    \"\"\"\n",
    "    Applies z-score normalization to selected features\n",
    "    \"\"\"\n",
    "    print(\"Applying z-score normalization...\")\n",
    "    \n",
    "    # Select the three columns to normalize\n",
    "    features = ['LifeExpectancy_Both', 'LogGDPperCapita', 'LogPopulation']\n",
    "    \n",
    "    # Calculate mean and standard deviation for each feature\n",
    "    feature_means = df_final[features].mean()\n",
    "    feature_stds = df_final[features].std()\n",
    "    \n",
    "    # Apply z-score normalization\n",
    "    for feature in features:\n",
    "        normalized_feature = f\"Normalized_{feature}\"\n",
    "        df_final[normalized_feature] = (df_final[feature] - feature_means[feature]) / feature_stds[feature]\n",
    "    \n",
    "    print(\"Z-score normalization completed.\\n\")\n",
    "    return df_final\n"
   ]
  },
  {
   "cell_type": "markdown",
   "id": "337309f9",
   "metadata": {},
   "source": [
    "## 5.4 Data Integration (inner join)"
   ]
  },
  {
   "cell_type": "code",
   "execution_count": 24,
   "id": "1bce08c7",
   "metadata": {},
   "outputs": [],
   "source": [
    "def data_integration(df_demographics, df_gdp, df_pop, output_path):\n",
    "    \"\"\"\n",
    "    Combines the three datasets into a single analysis dataset using inner join\n",
    "    \"\"\"\n",
    "    print(\"Performing data integration...\\n\")\n",
    "\n",
    "    # Ensure 'Country' is the index for df_demographics dataset\n",
    "    if df_demographics.index.name != \"Country\":\n",
    "        df_demographics.set_index(\"Country\", inplace=True)\n",
    "\n",
    "    # Ensure 'Country' is the index for GDP dataset\n",
    "    if df_gdp.index.name != \"Country\":\n",
    "        df_gdp.set_index(\"Country\", inplace=True)\n",
    "\n",
    "    # Ensure 'Country' is the index for Population dataset\n",
    "    if df_pop.index.name != \"Country\":\n",
    "        df_pop.set_index(\"Country\", inplace=True)\n",
    "\n",
    "    # Perform an inner join on Country\n",
    "    df_final = df_demographics.join(df_gdp, how=\"inner\").join(df_pop, how=\"inner\")\n",
    "    \n",
    "    # Record how many countries remain after the merge\n",
    "    countries_after_merge = len(df_final)\n",
    "    print(f\"Number of countries after merging: {countries_after_merge}\")\n",
    "    \n",
    "    # Save list of countries lost during join\n",
    "    # Get original country lists\n",
    "    demographics_countries = set(df_demographics.index.tolist())\n",
    "    gdp_countries = set(df_gdp.index.tolist())\n",
    "    pop_countries = set(df_pop.index.tolist())\n",
    "    \n",
    "    # Get all countries that should be in the merge (union of all sets)\n",
    "    all_countries = demographics_countries.union(gdp_countries).union(pop_countries)\n",
    "    \n",
    "    # Countries in the final merged dataset\n",
    "    merged_countries = set(df_final.index.tolist())\n",
    "    \n",
    "    # Find lost countries (in at least one original dataset but not in final)\n",
    "    lost_countries = all_countries - merged_countries\n",
    "    \n",
    "    # Convert to DataFrame and sort\n",
    "    lost_countries_df = pd.DataFrame({'Country': sorted(list(lost_countries))})\n",
    "    lost_countries_df.to_csv(output_path + 'lost_countries.csv', index=False)\n",
    "    print(f\"Saved {len(lost_countries)} lost countries to {output_path}lost_countries.csv\")\n",
    "    \n",
    "    # Check for any remaining missing values\n",
    "    missing_values = df_final.isnull().sum()\n",
    "    print(\"Missing values in merged dataset:\")\n",
    "    print(missing_values)\n",
    "    \n",
    "    # Replace missing numeric values with column mean\n",
    "    numeric_columns = df_final.select_dtypes(include=['number']).columns\n",
    "    for col in numeric_columns:\n",
    "        if df_final[col].isnull().sum() > 0:  # Only process if column has nulls\n",
    "            print(f\"Replacing {df_final[col].isnull().sum()} missing values in {col} with mean\")\n",
    "            df_final[col].fillna(df_final[col].mean(), inplace=True)\n",
    "    \n",
    "    # Remove rows with missing categorical values\n",
    "    categorical_columns = df_final.select_dtypes(exclude=['number']).columns\n",
    "    if len(categorical_columns) > 0 and df_final[categorical_columns].isnull().sum().sum() > 0:\n",
    "        before_rows = len(df_final)\n",
    "        df_final.dropna(subset=categorical_columns, inplace=True)\n",
    "        after_rows = len(df_final)\n",
    "        print(f\"Removed {before_rows - after_rows} rows with missing categorical values\")\n",
    "    \n",
    "    print(\"Data integration completed.\\n\")\n",
    "    return df_final\n",
    "\n",
    "# data_integration(df_demographics, df_gdp, df_pop, output_path)"
   ]
  },
  {
   "cell_type": "markdown",
   "id": "b4092427",
   "metadata": {},
   "source": [
    "Main function: run feature engineering"
   ]
  },
  {
   "cell_type": "code",
   "execution_count": 25,
   "id": "50ef1d22",
   "metadata": {},
   "outputs": [
    {
     "name": "stdout",
     "output_type": "stream",
     "text": [
      "Performing data integration...\n",
      "\n",
      "Number of countries after merging: 173\n",
      "Saved 108 lost countries to ../output/lost_countries.csv\n",
      "Missing values in merged dataset:\n",
      "LifeExpectancy_Both           0\n",
      "LifeExpectancy_Female         0\n",
      "LifeExpectancy_Male           0\n",
      "UrbanPopulation_Percentage    0\n",
      "UrbanPopulation_Absolute      5\n",
      "PopulationDensity             0\n",
      "GDP_per_capita_PPP            0\n",
      "Population                    0\n",
      "dtype: int64\n",
      "Replacing 5 missing values in UrbanPopulation_Absolute with mean\n",
      "Data integration completed.\n",
      "\n",
      "Creating Total GDP feature...\n",
      "Total GDP feature created.\n",
      "\n",
      "Applying log transformations...\n",
      "Log transformations completed.\n",
      "\n",
      "Applying z-score normalization...\n",
      "Z-score normalization completed.\n",
      "\n",
      "Creating final feature matrix...\n",
      "Feature matrix with shape (173, 3) saved to ../output/X.npy\n",
      "\n"
     ]
    }
   ],
   "source": [
    "def run_feature_engineering(df_demographics, df_gdp, df_pop, output_path):\n",
    "    \"\"\"\n",
    "    Runs the complete feature engineering pipeline\n",
    "    \"\"\"\n",
    "    # Step 1: Data Integration\n",
    "    df_final = data_integration(df_demographics, df_gdp, df_pop, output_path)\n",
    "    \n",
    "    # Step 2: Create Total GDP feature\n",
    "    df_final = create_total_gdp(df_final)\n",
    "    \n",
    "    # Step 3: Apply log transformations\n",
    "    df_final = apply_log_transforms(df_final)\n",
    "    \n",
    "    # Step 4: Normalize features\n",
    "    df_final = normalize_features(df_final, output_path)\n",
    "    \n",
    "    # Step 5: Create and save feature matrix\n",
    "    X = create_feature_matrix(df_final, output_path)\n",
    "    \n",
    "    return df_final, X\n",
    "\n",
    "# After loading your cleaned datasets\n",
    "df_final, X = run_feature_engineering(df_demographics, df_gdp, df_pop, output_path)"
   ]
  }
 ],
 "metadata": {
  "kernelspec": {
   "display_name": "Python 3",
   "language": "python",
   "name": "python3"
  },
  "language_info": {
   "codemirror_mode": {
    "name": "ipython",
    "version": 3
   },
   "file_extension": ".py",
   "mimetype": "text/x-python",
   "name": "python",
   "nbconvert_exporter": "python",
   "pygments_lexer": "ipython3",
   "version": "3.10.11"
  }
 },
 "nbformat": 4,
 "nbformat_minor": 5
}
