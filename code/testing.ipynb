{
 "cells": [
  {
   "metadata": {},
   "cell_type": "markdown",
   "source": "## Imports",
   "id": "8fd24d03430fa5b4"
  },
  {
   "cell_type": "code",
   "id": "initial_id",
   "metadata": {
    "collapsed": true,
    "ExecuteTime": {
     "end_time": "2025-05-13T11:58:32.951697Z",
     "start_time": "2025-05-13T11:58:32.944669Z"
    }
   },
   "source": [
    "import requests\n",
    "from bs4 import BeautifulSoup\n",
    "import pandas as pd\n",
    "import re  # Import the regular expression module\n",
    "from tqdm import tqdm"
   ],
   "outputs": [],
   "execution_count": 132
  },
  {
   "metadata": {},
   "cell_type": "markdown",
   "source": "## Scraping",
   "id": "1068c66623415af6"
  },
  {
   "metadata": {
    "ExecuteTime": {
     "end_time": "2025-05-13T11:58:35.749561Z",
     "start_time": "2025-05-13T11:58:34.081306Z"
    }
   },
   "cell_type": "code",
   "source": [
    "SCRAPE_SOURCE = \"https://www.worldometers.info/demographics/\"\n",
    "SCRAPE_ROOT = \"https://www.worldometers.info\"\n",
    "response = requests.get(SCRAPE_SOURCE)\n",
    "response.raise_for_status()  # Raise an exception for bad status codes\n",
    "soup = BeautifulSoup(response.content, 'html.parser')"
   ],
   "id": "f4ea8cc1b7b2258d",
   "outputs": [],
   "execution_count": 133
  },
  {
   "metadata": {
    "ExecuteTime": {
     "end_time": "2025-05-13T12:04:10.006724Z",
     "start_time": "2025-05-13T12:04:08.453285Z"
    }
   },
   "cell_type": "code",
   "source": [
    "# Initialize a list to collect demographic data\n",
    "demographics_data = []\n",
    "\n",
    "df_demographics = pd.DataFrame(columns=[\"Country\",\n",
    "                                        \"LifeExpectancy_Both\",  # (Both Sexes, in years)\n",
    "                                        \"LifeExpectancy_Female\",  # (Females, in years)\n",
    "                                        \"LifeExpectancy_Male\",  # (Males, in years)\n",
    "                                        \"UrbanPopulation_Percentage\",  # (percentage without commas)\n",
    "                                        \"UrbanPopulation_Absolute\",  # (if available)\n",
    "                                        \"PopulationDensity\"])\n",
    "progress_bar = tqdm(soup.find_all(attrs={'data-country': True}))\n",
    "for country_link in progress_bar:\n",
    "    progress_bar.set_description(f\"Scraping data for {country_link.text.strip()}\")\n",
    "\n",
    "    country_url = SCRAPE_ROOT + soup.find_all(attrs={'data-country': True})[0]['href']\n",
    "    country_url = SCRAPE_ROOT + country_link['href']  # Fixed to use current country_link\n",
    "\n",
    "    response = requests.get(country_url)\n",
    "    country_soup = BeautifulSoup(response.content, 'html.parser')\n",
    "\n",
    "    # Get life expectancies\n",
    "    expectancies = map( lambda x: float(x.text.strip()), country_soup.find_all(attrs={'class': 'grid grid-col-1 lg:grid-cols-3 gap-4'})[0].find_all(\n",
    "                          attrs={'class': 'text-2xl font-bold mb-1.5'}))\n",
    "\n",
    "    expectancies = list(expectancies)  # Convert map object to list\n",
    "\n",
    "    # Get urban population data\n",
    "    populations= re.findall('\\d+\\.?\\d+',\n",
    "                        country_soup.find(lambda tag: tag.name == 'p' and 'Currently' in tag.text).text.replace(',', ''))[0:2]\n",
    "    # Dealing with lack of absolute number\n",
    "    if len(populations) == 1:\n",
    "        populations.append('None')\n",
    "\n",
    "    # Get population density\n",
    "    density = re.findall('\\d+\\.?\\d+',\n",
    "                        country_soup.find(lambda tag: tag.name == 'p' and 'population density in ' in tag.text).text.replace(',', ''))[0:2]\n",
    "    populations.append(density[1])\n",
    "    # Populations = [percentage urban, total population, population density per sqkm]\n",
    "\n",
    "    # Append data as a list to demographics_data\n",
    "    demographics_data.append([\n",
    "        country_link.text.strip(),  # Country name\n",
    "        *expectancies,              # Life expectancy (Both, Female, Male)\n",
    "        *populations               # Urban population percentage, absolute, and density\n",
    "    ])\n",
    "\n",
    "# Create DataFrame from collected data\n",
    "df_demographics = pd.DataFrame(\n",
    "    demographics_data,\n",
    "    columns=[\"Country\", \"LifeExpectancy_Both\", \"LifeExpectancy_Female\", \"LifeExpectancy_Male\",\n",
    "            \"UrbanPopulation_Percentage\", \"UrbanPopulation_Absolute\", \"PopulationDensity\"]\n",
    ").apply(pd.to_numeric)\n"
   ],
   "id": "eeba5ac8b23958fa",
   "outputs": [
    {
     "name": "stderr",
     "output_type": "stream",
     "text": [
      "Scraping data for Afghanistan:   0%|          | 0/201 [00:01<?, ?it/s]\n"
     ]
    },
    {
     "ename": "AttributeError",
     "evalue": "'DataFrame' object has no attribute 'add_row'",
     "output_type": "error",
     "traceback": [
      "\u001B[0;31m---------------------------------------------------------------------------\u001B[0m",
      "\u001B[0;31mAttributeError\u001B[0m                            Traceback (most recent call last)",
      "\u001B[0;32m/var/folders/x7/gwjk9h594mxb48nxl8w517sm0000gn/T/ipykernel_86085/859173826.py\u001B[0m in \u001B[0;36m?\u001B[0;34m()\u001B[0m\n\u001B[1;32m     35\u001B[0m \u001B[0;34m\u001B[0m\u001B[0m\n\u001B[1;32m     36\u001B[0m     \u001B[0mexpectancies\u001B[0m \u001B[0;34m=\u001B[0m \u001B[0mlist\u001B[0m\u001B[0;34m(\u001B[0m\u001B[0mexpectancies\u001B[0m\u001B[0;34m)\u001B[0m  \u001B[0;31m# Convert map object to list\u001B[0m\u001B[0;34m\u001B[0m\u001B[0;34m\u001B[0m\u001B[0m\n\u001B[1;32m     37\u001B[0m \u001B[0;34m\u001B[0m\u001B[0m\n\u001B[1;32m     38\u001B[0m     \u001B[0;31m# Get urban population data\u001B[0m\u001B[0;34m\u001B[0m\u001B[0;34m\u001B[0m\u001B[0;34m\u001B[0m\u001B[0m\n\u001B[0;32m---> 39\u001B[0;31m     populations= re.findall('\\d+\\.?\\d+',\n\u001B[0m\u001B[1;32m     40\u001B[0m                         country_soup.find(lambda tag: tag.name == 'p' and 'Currently' in tag.text).text.replace(',', ''))[0:2]\n\u001B[1;32m     41\u001B[0m     \u001B[0;31m# Dealing with lack of absolute number\u001B[0m\u001B[0;34m\u001B[0m\u001B[0;34m\u001B[0m\u001B[0;34m\u001B[0m\u001B[0m\n\u001B[1;32m     42\u001B[0m     \u001B[0;32mif\u001B[0m \u001B[0mlen\u001B[0m\u001B[0;34m(\u001B[0m\u001B[0mpopulations\u001B[0m\u001B[0;34m)\u001B[0m \u001B[0;34m==\u001B[0m \u001B[0;36m1\u001B[0m\u001B[0;34m:\u001B[0m\u001B[0;34m\u001B[0m\u001B[0;34m\u001B[0m\u001B[0m\n",
      "\u001B[0;32m~/PycharmProjects/67978-EX1/.venv/lib/python3.9/site-packages/pandas/core/generic.py\u001B[0m in \u001B[0;36m?\u001B[0;34m(self, name)\u001B[0m\n\u001B[1;32m   6295\u001B[0m             \u001B[0;32mand\u001B[0m \u001B[0mname\u001B[0m \u001B[0;32mnot\u001B[0m \u001B[0;32min\u001B[0m \u001B[0mself\u001B[0m\u001B[0;34m.\u001B[0m\u001B[0m_accessors\u001B[0m\u001B[0;34m\u001B[0m\u001B[0;34m\u001B[0m\u001B[0m\n\u001B[1;32m   6296\u001B[0m             \u001B[0;32mand\u001B[0m \u001B[0mself\u001B[0m\u001B[0;34m.\u001B[0m\u001B[0m_info_axis\u001B[0m\u001B[0;34m.\u001B[0m\u001B[0m_can_hold_identifiers_and_holds_name\u001B[0m\u001B[0;34m(\u001B[0m\u001B[0mname\u001B[0m\u001B[0;34m)\u001B[0m\u001B[0;34m\u001B[0m\u001B[0;34m\u001B[0m\u001B[0m\n\u001B[1;32m   6297\u001B[0m         ):\n\u001B[1;32m   6298\u001B[0m             \u001B[0;32mreturn\u001B[0m \u001B[0mself\u001B[0m\u001B[0;34m[\u001B[0m\u001B[0mname\u001B[0m\u001B[0;34m]\u001B[0m\u001B[0;34m\u001B[0m\u001B[0;34m\u001B[0m\u001B[0m\n\u001B[0;32m-> 6299\u001B[0;31m         \u001B[0;32mreturn\u001B[0m \u001B[0mobject\u001B[0m\u001B[0;34m.\u001B[0m\u001B[0m__getattribute__\u001B[0m\u001B[0;34m(\u001B[0m\u001B[0mself\u001B[0m\u001B[0;34m,\u001B[0m \u001B[0mname\u001B[0m\u001B[0;34m)\u001B[0m\u001B[0;34m\u001B[0m\u001B[0;34m\u001B[0m\u001B[0m\n\u001B[0m",
      "\u001B[0;31mAttributeError\u001B[0m: 'DataFrame' object has no attribute 'add_row'"
     ]
    }
   ],
   "execution_count": 138
  },
  {
   "metadata": {
    "ExecuteTime": {
     "end_time": "2025-05-13T11:59:13.083778Z",
     "start_time": "2025-05-13T11:59:13.074765Z"
    }
   },
   "cell_type": "code",
   "source": "df_demographics.to_csv('scraped_demographics.csv', index=False)",
   "id": "755e73c727d3765a",
   "outputs": [
    {
     "data": {
      "text/plain": [
       "               Country  LifeExpectancy_Both  LifeExpectancy_Female  \\\n",
       "0          Afghanistan                 66.5                   68.1   \n",
       "1              Albania                 80.0                   81.7   \n",
       "2              Algeria                 76.7                   78.1   \n",
       "3               Angola                 65.0                   67.5   \n",
       "4  Antigua and Barbuda                 77.9                   80.6   \n",
       "\n",
       "   LifeExpectancy_Male UrbanPopulation_Percentage UrbanPopulation_Absolute  \\\n",
       "0                 64.9                       26.7                 11704638   \n",
       "1                 78.1                       70.3                  1948831   \n",
       "2                 75.3                       74.4                 35291973   \n",
       "3                 62.4                       68.8                 26847887   \n",
       "4                 74.9                       28.5                    26823   \n",
       "\n",
       "  PopulationDensity  \n",
       "0                67  \n",
       "1               101  \n",
       "2                20  \n",
       "3                31  \n",
       "4               214  "
      ],
      "text/html": [
       "<div>\n",
       "<style scoped>\n",
       "    .dataframe tbody tr th:only-of-type {\n",
       "        vertical-align: middle;\n",
       "    }\n",
       "\n",
       "    .dataframe tbody tr th {\n",
       "        vertical-align: top;\n",
       "    }\n",
       "\n",
       "    .dataframe thead th {\n",
       "        text-align: right;\n",
       "    }\n",
       "</style>\n",
       "<table border=\"1\" class=\"dataframe\">\n",
       "  <thead>\n",
       "    <tr style=\"text-align: right;\">\n",
       "      <th></th>\n",
       "      <th>Country</th>\n",
       "      <th>LifeExpectancy_Both</th>\n",
       "      <th>LifeExpectancy_Female</th>\n",
       "      <th>LifeExpectancy_Male</th>\n",
       "      <th>UrbanPopulation_Percentage</th>\n",
       "      <th>UrbanPopulation_Absolute</th>\n",
       "      <th>PopulationDensity</th>\n",
       "    </tr>\n",
       "  </thead>\n",
       "  <tbody>\n",
       "    <tr>\n",
       "      <th>0</th>\n",
       "      <td>Afghanistan</td>\n",
       "      <td>66.5</td>\n",
       "      <td>68.1</td>\n",
       "      <td>64.9</td>\n",
       "      <td>26.7</td>\n",
       "      <td>11704638</td>\n",
       "      <td>67</td>\n",
       "    </tr>\n",
       "    <tr>\n",
       "      <th>1</th>\n",
       "      <td>Albania</td>\n",
       "      <td>80.0</td>\n",
       "      <td>81.7</td>\n",
       "      <td>78.1</td>\n",
       "      <td>70.3</td>\n",
       "      <td>1948831</td>\n",
       "      <td>101</td>\n",
       "    </tr>\n",
       "    <tr>\n",
       "      <th>2</th>\n",
       "      <td>Algeria</td>\n",
       "      <td>76.7</td>\n",
       "      <td>78.1</td>\n",
       "      <td>75.3</td>\n",
       "      <td>74.4</td>\n",
       "      <td>35291973</td>\n",
       "      <td>20</td>\n",
       "    </tr>\n",
       "    <tr>\n",
       "      <th>3</th>\n",
       "      <td>Angola</td>\n",
       "      <td>65.0</td>\n",
       "      <td>67.5</td>\n",
       "      <td>62.4</td>\n",
       "      <td>68.8</td>\n",
       "      <td>26847887</td>\n",
       "      <td>31</td>\n",
       "    </tr>\n",
       "    <tr>\n",
       "      <th>4</th>\n",
       "      <td>Antigua and Barbuda</td>\n",
       "      <td>77.9</td>\n",
       "      <td>80.6</td>\n",
       "      <td>74.9</td>\n",
       "      <td>28.5</td>\n",
       "      <td>26823</td>\n",
       "      <td>214</td>\n",
       "    </tr>\n",
       "  </tbody>\n",
       "</table>\n",
       "</div>"
      ]
     },
     "execution_count": 136,
     "metadata": {},
     "output_type": "execute_result"
    }
   ],
   "execution_count": 136
  },
  {
   "metadata": {},
   "cell_type": "markdown",
   "source": "## Testing for country 0",
   "id": "4ccd2bbc808755e1"
  },
  {
   "metadata": {
    "ExecuteTime": {
     "end_time": "2025-05-13T11:08:11.767763Z",
     "start_time": "2025-05-13T11:08:11.762765Z"
    }
   },
   "cell_type": "code",
   "source": "(country_url := SCRAPE_ROOT + soup.find_all(attrs={'data-country': True})[0]['href'])",
   "id": "a6db7715ecb3f37d",
   "outputs": [
    {
     "data": {
      "text/plain": [
       "'https://www.worldometers.info/demographics/afghanistan-demographics/'"
      ]
     },
     "execution_count": 28,
     "metadata": {},
     "output_type": "execute_result"
    }
   ],
   "execution_count": 28
  },
  {
   "metadata": {
    "ExecuteTime": {
     "end_time": "2025-05-13T11:08:51.692221Z",
     "start_time": "2025-05-13T11:08:50.701210Z"
    }
   },
   "cell_type": "code",
   "source": "response = requests.get(country_url)",
   "id": "4b1bc84e73ff3530",
   "outputs": [],
   "execution_count": 29
  },
  {
   "metadata": {},
   "cell_type": "markdown",
   "source": "### Getting Life Expectancy",
   "id": "11116b608d5b6ddc"
  },
  {
   "metadata": {
    "ExecuteTime": {
     "end_time": "2025-05-13T11:19:17.953513Z",
     "start_time": "2025-05-13T11:19:17.943762Z"
    }
   },
   "cell_type": "code",
   "source": [
    "country_soup = BeautifulSoup(response.content, 'html.parser')\n",
    "expectancies = map( lambda x: float(x.text.strip()), country_soup.find_all(attrs={'class': 'grid grid-col-1 lg:grid-cols-3 gap-4'})[0].find_all(\n",
    "    attrs={'class': 'text-2xl font-bold mb-1.5'}))\n",
    "list(expectancies)"
   ],
   "id": "636178d6579dcdd0",
   "outputs": [
    {
     "data": {
      "text/plain": [
       "[66.5, 68.1, 64.9]"
      ]
     },
     "execution_count": 68,
     "metadata": {},
     "output_type": "execute_result"
    }
   ],
   "execution_count": 68
  },
  {
   "metadata": {},
   "cell_type": "markdown",
   "source": "### Getting Population",
   "id": "a3af1ec5a1137b5b"
  },
  {
   "metadata": {
    "ExecuteTime": {
     "end_time": "2025-05-13T11:47:48.595128Z",
     "start_time": "2025-05-13T11:47:48.589618Z"
    }
   },
   "cell_type": "code",
   "source": [
    "populations= re.findall('\\d+\\.?\\d+',\n",
    "                        country_soup.find(lambda tag: tag.name == 'p' and 'Currently' in tag.text).text.replace(',', ''))[0:2]\n",
    "# Dealing with lack of absolute number\n",
    "if len(populations)==1:\n",
    "    populations.append('None')\n",
    "populations"
   ],
   "id": "48c33743448e2fa4",
   "outputs": [
    {
     "data": {
      "text/plain": [
       "['26.7', '11704638']"
      ]
     },
     "execution_count": 121,
     "metadata": {},
     "output_type": "execute_result"
    }
   ],
   "execution_count": 121
  },
  {
   "metadata": {},
   "cell_type": "markdown",
   "source": "### Getting Population Density",
   "id": "995d2626ef7efff4"
  },
  {
   "metadata": {
    "ExecuteTime": {
     "end_time": "2025-05-13T11:48:08.093250Z",
     "start_time": "2025-05-13T11:48:08.088232Z"
    }
   },
   "cell_type": "code",
   "source": [
    "density= re.findall('\\d+\\.?\\d+',\n",
    "                        country_soup.find(lambda tag: tag.name == 'p' and 'population density in ' in tag.text).text.replace(',', ''))[0:2]\n",
    "populations.append(density[1])\n",
    "populations"
   ],
   "id": "2fa155819472dec5",
   "outputs": [
    {
     "data": {
      "text/plain": [
       "['26.7', '11704638', 67.0]"
      ]
     },
     "execution_count": 123,
     "metadata": {},
     "output_type": "execute_result"
    }
   ],
   "execution_count": 123
  },
  {
   "metadata": {},
   "cell_type": "code",
   "outputs": [],
   "execution_count": null,
   "source": "",
   "id": "4b80f83cb7b3b234"
  }
 ],
 "metadata": {
  "kernelspec": {
   "display_name": "Python 3",
   "language": "python",
   "name": "python3"
  },
  "language_info": {
   "codemirror_mode": {
    "name": "ipython",
    "version": 2
   },
   "file_extension": ".py",
   "mimetype": "text/x-python",
   "name": "python",
   "nbconvert_exporter": "python",
   "pygments_lexer": "ipython2",
   "version": "2.7.6"
  }
 },
 "nbformat": 4,
 "nbformat_minor": 5
}
