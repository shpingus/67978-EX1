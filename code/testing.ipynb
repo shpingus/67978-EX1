{
 "cells": [
  {
   "metadata": {},
   "cell_type": "markdown",
   "source": "## Imports",
   "id": "8fd24d03430fa5b4"
  },
  {
   "cell_type": "code",
   "id": "initial_id",
   "metadata": {
    "collapsed": true,
    "ExecuteTime": {
     "end_time": "2025-05-13T11:58:32.951697Z",
     "start_time": "2025-05-13T11:58:32.944669Z"
    }
   },
   "source": [
    "import requests\n",
    "from bs4 import BeautifulSoup\n",
    "import pandas as pd\n",
    "import re  # Import the regular expression module\n",
    "from tqdm import tqdm"
   ],
   "outputs": [],
   "execution_count": 132
  },
  {
   "metadata": {},
   "cell_type": "markdown",
   "source": "## Scraping",
   "id": "1068c66623415af6"
  },
  {
   "metadata": {
    "ExecuteTime": {
     "end_time": "2025-05-13T11:58:35.749561Z",
     "start_time": "2025-05-13T11:58:34.081306Z"
    }
   },
   "cell_type": "code",
   "source": [
    "SCRAPE_SOURCE = \"https://www.worldometers.info/demographics/\"\n",
    "SCRAPE_ROOT = \"https://www.worldometers.info\"\n",
    "response = requests.get(SCRAPE_SOURCE)\n",
    "response.raise_for_status()  # Raise an exception for bad status codes\n",
    "soup = BeautifulSoup(response.content, 'html.parser')"
   ],
   "id": "f4ea8cc1b7b2258d",
   "outputs": [],
   "execution_count": 133
  },
  {
   "metadata": {
    "ExecuteTime": {
     "end_time": "2025-05-13T12:10:06.115159Z",
     "start_time": "2025-05-13T12:04:27.530235Z"
    }
   },
   "cell_type": "code",
   "source": [
    "# Initialize a list to collect demographic data\n",
    "demographics_data = []\n",
    "\n",
    "df_demographics = pd.DataFrame(columns=[\"Country\",\n",
    "                                        \"LifeExpectancy_Both\",  # (Both Sexes, in years)\n",
    "                                        \"LifeExpectancy_Female\",  # (Females, in years)\n",
    "                                        \"LifeExpectancy_Male\",  # (Males, in years)\n",
    "                                        \"UrbanPopulation_Percentage\",  # (percentage without commas)\n",
    "                                        \"UrbanPopulation_Absolute\",  # (if available)\n",
    "                                        \"PopulationDensity\"])\n",
    "progress_bar = tqdm(soup.find_all(attrs={'data-country': True}))\n",
    "for country_link in progress_bar:\n",
    "    progress_bar.set_description(f\"Scraping data for {country_link.text.strip()}\")\n",
    "\n",
    "    country_url = SCRAPE_ROOT + soup.find_all(attrs={'data-country': True})[0]['href']\n",
    "    country_url = SCRAPE_ROOT + country_link['href']  # Fixed to use current country_link\n",
    "\n",
    "    response = requests.get(country_url)\n",
    "    country_soup = BeautifulSoup(response.content, 'html.parser')\n",
    "\n",
    "    # Get life expectancies\n",
    "    expectancies = map( lambda x: float(x.text.strip()), country_soup.find_all(attrs={'class': 'grid grid-col-1 lg:grid-cols-3 gap-4'})[0].find_all(\n",
    "                          attrs={'class': 'text-2xl font-bold mb-1.5'}))\n",
    "\n",
    "    expectancies = list(expectancies)  # Convert map object to list\n",
    "\n",
    "    # Get urban population data\n",
    "    populations= re.findall('\\d+\\.?\\d+',\n",
    "                        country_soup.find(lambda tag: tag.name == 'p' and 'Currently' in tag.text).text.replace(',', ''))[0:2]\n",
    "    # Dealing with lack of absolute number\n",
    "    if len(populations) == 1:\n",
    "        populations.append('None')\n",
    "\n",
    "    # Get population density\n",
    "    density = re.findall('\\d+\\.?\\d+',\n",
    "                        country_soup.find(lambda tag: tag.name == 'p' and 'population density in ' in tag.text).text.replace(',', ''))[0:2]\n",
    "    populations.append(density[1])\n",
    "    # Populations = [percentage urban, total population, population density per sqkm]\n",
    "\n",
    "    # Append data as a list to demographics_data\n",
    "    demographics_data.append([\n",
    "        country_link.text.strip(),  # Country name\n",
    "        *expectancies,              # Life expectancy (Both, Female, Male)\n",
    "        *populations               # Urban population percentage, absolute, and density\n",
    "    ])\n",
    "\n"
   ],
   "id": "eeba5ac8b23958fa",
   "outputs": [
    {
     "name": "stderr",
     "output_type": "stream",
     "text": [
      "Scraping data for Zimbabwe: 100%|██████████| 201/201 [05:38<00:00,  1.68s/it]                \n"
     ]
    },
    {
     "ename": "ValueError",
     "evalue": "Unable to parse string \"Afghanistan\" at position 0",
     "output_type": "error",
     "traceback": [
      "\u001B[0;31m---------------------------------------------------------------------------\u001B[0m",
      "\u001B[0;31mValueError\u001B[0m                                Traceback (most recent call last)",
      "File \u001B[0;32mlib.pyx:2391\u001B[0m, in \u001B[0;36mpandas._libs.lib.maybe_convert_numeric\u001B[0;34m()\u001B[0m\n",
      "\u001B[0;31mValueError\u001B[0m: Unable to parse string \"Afghanistan\"",
      "\nDuring handling of the above exception, another exception occurred:\n",
      "\u001B[0;31mValueError\u001B[0m                                Traceback (most recent call last)",
      "Cell \u001B[0;32mIn[139], line 48\u001B[0m\n\u001B[1;32m     41\u001B[0m     demographics_data\u001B[38;5;241m.\u001B[39mappend([\n\u001B[1;32m     42\u001B[0m         country_link\u001B[38;5;241m.\u001B[39mtext\u001B[38;5;241m.\u001B[39mstrip(),  \u001B[38;5;66;03m# Country name\u001B[39;00m\n\u001B[1;32m     43\u001B[0m         \u001B[38;5;241m*\u001B[39mexpectancies,              \u001B[38;5;66;03m# Life expectancy (Both, Female, Male)\u001B[39;00m\n\u001B[1;32m     44\u001B[0m         \u001B[38;5;241m*\u001B[39mpopulations               \u001B[38;5;66;03m# Urban population percentage, absolute, and density\u001B[39;00m\n\u001B[1;32m     45\u001B[0m     ])\n\u001B[1;32m     47\u001B[0m \u001B[38;5;66;03m# Create DataFrame from collected data\u001B[39;00m\n\u001B[0;32m---> 48\u001B[0m df_demographics \u001B[38;5;241m=\u001B[39m \u001B[43mpd\u001B[49m\u001B[38;5;241;43m.\u001B[39;49m\u001B[43mDataFrame\u001B[49m\u001B[43m(\u001B[49m\n\u001B[1;32m     49\u001B[0m \u001B[43m    \u001B[49m\u001B[43mdemographics_data\u001B[49m\u001B[43m,\u001B[49m\n\u001B[1;32m     50\u001B[0m \u001B[43m    \u001B[49m\u001B[43mcolumns\u001B[49m\u001B[38;5;241;43m=\u001B[39;49m\u001B[43m[\u001B[49m\u001B[38;5;124;43m\"\u001B[39;49m\u001B[38;5;124;43mCountry\u001B[39;49m\u001B[38;5;124;43m\"\u001B[39;49m\u001B[43m,\u001B[49m\u001B[43m \u001B[49m\u001B[38;5;124;43m\"\u001B[39;49m\u001B[38;5;124;43mLifeExpectancy_Both\u001B[39;49m\u001B[38;5;124;43m\"\u001B[39;49m\u001B[43m,\u001B[49m\u001B[43m \u001B[49m\u001B[38;5;124;43m\"\u001B[39;49m\u001B[38;5;124;43mLifeExpectancy_Female\u001B[39;49m\u001B[38;5;124;43m\"\u001B[39;49m\u001B[43m,\u001B[49m\u001B[43m \u001B[49m\u001B[38;5;124;43m\"\u001B[39;49m\u001B[38;5;124;43mLifeExpectancy_Male\u001B[39;49m\u001B[38;5;124;43m\"\u001B[39;49m\u001B[43m,\u001B[49m\n\u001B[1;32m     51\u001B[0m \u001B[43m            \u001B[49m\u001B[38;5;124;43m\"\u001B[39;49m\u001B[38;5;124;43mUrbanPopulation_Percentage\u001B[39;49m\u001B[38;5;124;43m\"\u001B[39;49m\u001B[43m,\u001B[49m\u001B[43m \u001B[49m\u001B[38;5;124;43m\"\u001B[39;49m\u001B[38;5;124;43mUrbanPopulation_Absolute\u001B[39;49m\u001B[38;5;124;43m\"\u001B[39;49m\u001B[43m,\u001B[49m\u001B[43m \u001B[49m\u001B[38;5;124;43m\"\u001B[39;49m\u001B[38;5;124;43mPopulationDensity\u001B[39;49m\u001B[38;5;124;43m\"\u001B[39;49m\u001B[43m]\u001B[49m\n\u001B[1;32m     52\u001B[0m \u001B[43m)\u001B[49m\u001B[38;5;241;43m.\u001B[39;49m\u001B[43mapply\u001B[49m\u001B[43m(\u001B[49m\u001B[43mpd\u001B[49m\u001B[38;5;241;43m.\u001B[39;49m\u001B[43mto_numeric\u001B[49m\u001B[43m)\u001B[49m\n",
      "File \u001B[0;32m~/PycharmProjects/67978-EX1/.venv/lib/python3.9/site-packages/pandas/core/frame.py:10374\u001B[0m, in \u001B[0;36mDataFrame.apply\u001B[0;34m(self, func, axis, raw, result_type, args, by_row, engine, engine_kwargs, **kwargs)\u001B[0m\n\u001B[1;32m  10360\u001B[0m \u001B[38;5;28;01mfrom\u001B[39;00m\u001B[38;5;250m \u001B[39m\u001B[38;5;21;01mpandas\u001B[39;00m\u001B[38;5;21;01m.\u001B[39;00m\u001B[38;5;21;01mcore\u001B[39;00m\u001B[38;5;21;01m.\u001B[39;00m\u001B[38;5;21;01mapply\u001B[39;00m\u001B[38;5;250m \u001B[39m\u001B[38;5;28;01mimport\u001B[39;00m frame_apply\n\u001B[1;32m  10362\u001B[0m op \u001B[38;5;241m=\u001B[39m frame_apply(\n\u001B[1;32m  10363\u001B[0m     \u001B[38;5;28mself\u001B[39m,\n\u001B[1;32m  10364\u001B[0m     func\u001B[38;5;241m=\u001B[39mfunc,\n\u001B[0;32m   (...)\u001B[0m\n\u001B[1;32m  10372\u001B[0m     kwargs\u001B[38;5;241m=\u001B[39mkwargs,\n\u001B[1;32m  10373\u001B[0m )\n\u001B[0;32m> 10374\u001B[0m \u001B[38;5;28;01mreturn\u001B[39;00m \u001B[43mop\u001B[49m\u001B[38;5;241;43m.\u001B[39;49m\u001B[43mapply\u001B[49m\u001B[43m(\u001B[49m\u001B[43m)\u001B[49m\u001B[38;5;241m.\u001B[39m__finalize__(\u001B[38;5;28mself\u001B[39m, method\u001B[38;5;241m=\u001B[39m\u001B[38;5;124m\"\u001B[39m\u001B[38;5;124mapply\u001B[39m\u001B[38;5;124m\"\u001B[39m)\n",
      "File \u001B[0;32m~/PycharmProjects/67978-EX1/.venv/lib/python3.9/site-packages/pandas/core/apply.py:916\u001B[0m, in \u001B[0;36mFrameApply.apply\u001B[0;34m(self)\u001B[0m\n\u001B[1;32m    913\u001B[0m \u001B[38;5;28;01melif\u001B[39;00m \u001B[38;5;28mself\u001B[39m\u001B[38;5;241m.\u001B[39mraw:\n\u001B[1;32m    914\u001B[0m     \u001B[38;5;28;01mreturn\u001B[39;00m \u001B[38;5;28mself\u001B[39m\u001B[38;5;241m.\u001B[39mapply_raw(engine\u001B[38;5;241m=\u001B[39m\u001B[38;5;28mself\u001B[39m\u001B[38;5;241m.\u001B[39mengine, engine_kwargs\u001B[38;5;241m=\u001B[39m\u001B[38;5;28mself\u001B[39m\u001B[38;5;241m.\u001B[39mengine_kwargs)\n\u001B[0;32m--> 916\u001B[0m \u001B[38;5;28;01mreturn\u001B[39;00m \u001B[38;5;28;43mself\u001B[39;49m\u001B[38;5;241;43m.\u001B[39;49m\u001B[43mapply_standard\u001B[49m\u001B[43m(\u001B[49m\u001B[43m)\u001B[49m\n",
      "File \u001B[0;32m~/PycharmProjects/67978-EX1/.venv/lib/python3.9/site-packages/pandas/core/apply.py:1063\u001B[0m, in \u001B[0;36mFrameApply.apply_standard\u001B[0;34m(self)\u001B[0m\n\u001B[1;32m   1061\u001B[0m \u001B[38;5;28;01mdef\u001B[39;00m\u001B[38;5;250m \u001B[39m\u001B[38;5;21mapply_standard\u001B[39m(\u001B[38;5;28mself\u001B[39m):\n\u001B[1;32m   1062\u001B[0m     \u001B[38;5;28;01mif\u001B[39;00m \u001B[38;5;28mself\u001B[39m\u001B[38;5;241m.\u001B[39mengine \u001B[38;5;241m==\u001B[39m \u001B[38;5;124m\"\u001B[39m\u001B[38;5;124mpython\u001B[39m\u001B[38;5;124m\"\u001B[39m:\n\u001B[0;32m-> 1063\u001B[0m         results, res_index \u001B[38;5;241m=\u001B[39m \u001B[38;5;28;43mself\u001B[39;49m\u001B[38;5;241;43m.\u001B[39;49m\u001B[43mapply_series_generator\u001B[49m\u001B[43m(\u001B[49m\u001B[43m)\u001B[49m\n\u001B[1;32m   1064\u001B[0m     \u001B[38;5;28;01melse\u001B[39;00m:\n\u001B[1;32m   1065\u001B[0m         results, res_index \u001B[38;5;241m=\u001B[39m \u001B[38;5;28mself\u001B[39m\u001B[38;5;241m.\u001B[39mapply_series_numba()\n",
      "File \u001B[0;32m~/PycharmProjects/67978-EX1/.venv/lib/python3.9/site-packages/pandas/core/apply.py:1081\u001B[0m, in \u001B[0;36mFrameApply.apply_series_generator\u001B[0;34m(self)\u001B[0m\n\u001B[1;32m   1078\u001B[0m \u001B[38;5;28;01mwith\u001B[39;00m option_context(\u001B[38;5;124m\"\u001B[39m\u001B[38;5;124mmode.chained_assignment\u001B[39m\u001B[38;5;124m\"\u001B[39m, \u001B[38;5;28;01mNone\u001B[39;00m):\n\u001B[1;32m   1079\u001B[0m     \u001B[38;5;28;01mfor\u001B[39;00m i, v \u001B[38;5;129;01min\u001B[39;00m \u001B[38;5;28menumerate\u001B[39m(series_gen):\n\u001B[1;32m   1080\u001B[0m         \u001B[38;5;66;03m# ignore SettingWithCopy here in case the user mutates\u001B[39;00m\n\u001B[0;32m-> 1081\u001B[0m         results[i] \u001B[38;5;241m=\u001B[39m \u001B[38;5;28;43mself\u001B[39;49m\u001B[38;5;241;43m.\u001B[39;49m\u001B[43mfunc\u001B[49m\u001B[43m(\u001B[49m\u001B[43mv\u001B[49m\u001B[43m,\u001B[49m\u001B[43m \u001B[49m\u001B[38;5;241;43m*\u001B[39;49m\u001B[38;5;28;43mself\u001B[39;49m\u001B[38;5;241;43m.\u001B[39;49m\u001B[43margs\u001B[49m\u001B[43m,\u001B[49m\u001B[43m \u001B[49m\u001B[38;5;241;43m*\u001B[39;49m\u001B[38;5;241;43m*\u001B[39;49m\u001B[38;5;28;43mself\u001B[39;49m\u001B[38;5;241;43m.\u001B[39;49m\u001B[43mkwargs\u001B[49m\u001B[43m)\u001B[49m\n\u001B[1;32m   1082\u001B[0m         \u001B[38;5;28;01mif\u001B[39;00m \u001B[38;5;28misinstance\u001B[39m(results[i], ABCSeries):\n\u001B[1;32m   1083\u001B[0m             \u001B[38;5;66;03m# If we have a view on v, we need to make a copy because\u001B[39;00m\n\u001B[1;32m   1084\u001B[0m             \u001B[38;5;66;03m#  series_generator will swap out the underlying data\u001B[39;00m\n\u001B[1;32m   1085\u001B[0m             results[i] \u001B[38;5;241m=\u001B[39m results[i]\u001B[38;5;241m.\u001B[39mcopy(deep\u001B[38;5;241m=\u001B[39m\u001B[38;5;28;01mFalse\u001B[39;00m)\n",
      "File \u001B[0;32m~/PycharmProjects/67978-EX1/.venv/lib/python3.9/site-packages/pandas/core/tools/numeric.py:232\u001B[0m, in \u001B[0;36mto_numeric\u001B[0;34m(arg, errors, downcast, dtype_backend)\u001B[0m\n\u001B[1;32m    230\u001B[0m coerce_numeric \u001B[38;5;241m=\u001B[39m errors \u001B[38;5;129;01mnot\u001B[39;00m \u001B[38;5;129;01min\u001B[39;00m (\u001B[38;5;124m\"\u001B[39m\u001B[38;5;124mignore\u001B[39m\u001B[38;5;124m\"\u001B[39m, \u001B[38;5;124m\"\u001B[39m\u001B[38;5;124mraise\u001B[39m\u001B[38;5;124m\"\u001B[39m)\n\u001B[1;32m    231\u001B[0m \u001B[38;5;28;01mtry\u001B[39;00m:\n\u001B[0;32m--> 232\u001B[0m     values, new_mask \u001B[38;5;241m=\u001B[39m \u001B[43mlib\u001B[49m\u001B[38;5;241;43m.\u001B[39;49m\u001B[43mmaybe_convert_numeric\u001B[49m\u001B[43m(\u001B[49m\u001B[43m  \u001B[49m\u001B[38;5;66;43;03m# type: ignore[call-overload]\u001B[39;49;00m\n\u001B[1;32m    233\u001B[0m \u001B[43m        \u001B[49m\u001B[43mvalues\u001B[49m\u001B[43m,\u001B[49m\n\u001B[1;32m    234\u001B[0m \u001B[43m        \u001B[49m\u001B[38;5;28;43mset\u001B[39;49m\u001B[43m(\u001B[49m\u001B[43m)\u001B[49m\u001B[43m,\u001B[49m\n\u001B[1;32m    235\u001B[0m \u001B[43m        \u001B[49m\u001B[43mcoerce_numeric\u001B[49m\u001B[38;5;241;43m=\u001B[39;49m\u001B[43mcoerce_numeric\u001B[49m\u001B[43m,\u001B[49m\n\u001B[1;32m    236\u001B[0m \u001B[43m        \u001B[49m\u001B[43mconvert_to_masked_nullable\u001B[49m\u001B[38;5;241;43m=\u001B[39;49m\u001B[43mdtype_backend\u001B[49m\u001B[43m \u001B[49m\u001B[38;5;129;43;01mis\u001B[39;49;00m\u001B[43m \u001B[49m\u001B[38;5;129;43;01mnot\u001B[39;49;00m\u001B[43m \u001B[49m\u001B[43mlib\u001B[49m\u001B[38;5;241;43m.\u001B[39;49m\u001B[43mno_default\u001B[49m\n\u001B[1;32m    237\u001B[0m \u001B[43m        \u001B[49m\u001B[38;5;129;43;01mor\u001B[39;49;00m\u001B[43m \u001B[49m\u001B[38;5;28;43misinstance\u001B[39;49m\u001B[43m(\u001B[49m\u001B[43mvalues_dtype\u001B[49m\u001B[43m,\u001B[49m\u001B[43m \u001B[49m\u001B[43mStringDtype\u001B[49m\u001B[43m)\u001B[49m\n\u001B[1;32m    238\u001B[0m \u001B[43m        \u001B[49m\u001B[38;5;129;43;01mand\u001B[39;49;00m\u001B[43m \u001B[49m\u001B[38;5;129;43;01mnot\u001B[39;49;00m\u001B[43m \u001B[49m\u001B[43mvalues_dtype\u001B[49m\u001B[38;5;241;43m.\u001B[39;49m\u001B[43mstorage\u001B[49m\u001B[43m \u001B[49m\u001B[38;5;241;43m==\u001B[39;49m\u001B[43m \u001B[49m\u001B[38;5;124;43m\"\u001B[39;49m\u001B[38;5;124;43mpyarrow_numpy\u001B[39;49m\u001B[38;5;124;43m\"\u001B[39;49m\u001B[43m,\u001B[49m\n\u001B[1;32m    239\u001B[0m \u001B[43m    \u001B[49m\u001B[43m)\u001B[49m\n\u001B[1;32m    240\u001B[0m \u001B[38;5;28;01mexcept\u001B[39;00m (\u001B[38;5;167;01mValueError\u001B[39;00m, \u001B[38;5;167;01mTypeError\u001B[39;00m):\n\u001B[1;32m    241\u001B[0m     \u001B[38;5;28;01mif\u001B[39;00m errors \u001B[38;5;241m==\u001B[39m \u001B[38;5;124m\"\u001B[39m\u001B[38;5;124mraise\u001B[39m\u001B[38;5;124m\"\u001B[39m:\n",
      "File \u001B[0;32mlib.pyx:2433\u001B[0m, in \u001B[0;36mpandas._libs.lib.maybe_convert_numeric\u001B[0;34m()\u001B[0m\n",
      "\u001B[0;31mValueError\u001B[0m: Unable to parse string \"Afghanistan\" at position 0"
     ]
    }
   ],
   "execution_count": 139
  },
  {
   "metadata": {
    "ExecuteTime": {
     "end_time": "2025-05-13T12:13:46.052581Z",
     "start_time": "2025-05-13T12:13:46.047264Z"
    }
   },
   "cell_type": "code",
   "source": [
    "# Create DataFrame from collected data\n",
    "df_demographics = pd.DataFrame(\n",
    "    demographics_data,\n",
    "    columns=[\"Country\", \"LifeExpectancy_Both\", \"LifeExpectancy_Female\", \"LifeExpectancy_Male\",\n",
    "            \"UrbanPopulation_Percentage\", \"UrbanPopulation_Absolute\", \"PopulationDensity\"]\n",
    ").apply(pd.to_numeric, errors='ignore')"
   ],
   "id": "33b45b82a684acdb",
   "outputs": [
    {
     "name": "stderr",
     "output_type": "stream",
     "text": [
      "/var/folders/x7/gwjk9h594mxb48nxl8w517sm0000gn/T/ipykernel_86085/735364438.py:3: FutureWarning: errors='ignore' is deprecated and will raise in a future version. Use to_numeric without passing `errors` and catch exceptions explicitly instead\n",
      "  df_demographics = pd.DataFrame(\n"
     ]
    }
   ],
   "execution_count": 151
  },
  {
   "metadata": {
    "ExecuteTime": {
     "end_time": "2025-05-13T12:18:02.648741Z",
     "start_time": "2025-05-13T12:18:02.641406Z"
    }
   },
   "cell_type": "code",
   "source": [
    "df_demographics.to_csv('demographics_data.csv', index=False)\n",
    "head = df_demographics.head(10)\n",
    "head.to_csv('demographics_before_sort.csv', index=False)\n",
    "head.sort_values('Country', inplace=False).to_csv('demographics_after_sort.csv', index=False)"
   ],
   "id": "22029c2c70281351",
   "outputs": [],
   "execution_count": 158
  },
  {
   "metadata": {},
   "cell_type": "markdown",
   "source": "## Testing for country 0",
   "id": "4f5e767835bdd3b9"
  },
  {
   "metadata": {},
   "cell_type": "code",
   "outputs": [],
   "execution_count": null,
   "source": "(country_url := SCRAPE_ROOT + soup.find_all(attrs={'data-country': True})[0]['href'])",
   "id": "65ce785afc32b02"
  },
  {
   "metadata": {},
   "cell_type": "code",
   "outputs": [],
   "execution_count": null,
   "source": "response = requests.get(country_url)",
   "id": "67a5a24a66198b39"
  },
  {
   "metadata": {},
   "cell_type": "markdown",
   "source": "### Getting Life Expectancy",
   "id": "7ac1478e19c18fb3"
  },
  {
   "metadata": {},
   "cell_type": "code",
   "outputs": [],
   "execution_count": null,
   "source": [
    "country_soup = BeautifulSoup(response.content, 'html.parser')\n",
    "expectancies = map( lambda x: float(x.text.strip()), country_soup.find_all(attrs={'class': 'grid grid-col-1 lg:grid-cols-3 gap-4'})[0].find_all(\n",
    "    attrs={'class': 'text-2xl font-bold mb-1.5'}))\n",
    "list(expectancies)"
   ],
   "id": "ed702eaf7ec343a6"
  },
  {
   "metadata": {},
   "cell_type": "markdown",
   "source": "### Getting Population",
   "id": "68cc48243df1c8d1"
  },
  {
   "metadata": {},
   "cell_type": "code",
   "outputs": [],
   "execution_count": null,
   "source": [
    "populations= re.findall('\\d+\\.?\\d+',\n",
    "                        country_soup.find(lambda tag: tag.name == 'p' and 'Currently' in tag.text).text.replace(',', ''))[0:2]\n",
    "# Dealing with lack of absolute number\n",
    "if len(populations)==1:\n",
    "    populations.append('None')\n",
    "populations"
   ],
   "id": "c4916f297d76767b"
  },
  {
   "metadata": {},
   "cell_type": "markdown",
   "source": "### Getting Population Density",
   "id": "17505254ed78de1a"
  },
  {
   "metadata": {},
   "cell_type": "code",
   "outputs": [],
   "execution_count": null,
   "source": [
    "density= re.findall('\\d+\\.?\\d+',\n",
    "                        country_soup.find(lambda tag: tag.name == 'p' and 'population density in ' in tag.text).text.replace(',', ''))[0:2]\n",
    "populations.append(density[1])\n",
    "populations"
   ],
   "id": "507ee6009ee1b74a"
  },
  {
   "metadata": {},
   "cell_type": "code",
   "outputs": [],
   "execution_count": null,
   "source": "",
   "id": "138d7a2f7a5d47b0"
  }
 ],
 "metadata": {
  "kernelspec": {
   "display_name": "Python 3",
   "language": "python",
   "name": "python3"
  },
  "language_info": {
   "codemirror_mode": {
    "name": "ipython",
    "version": 2
   },
   "file_extension": ".py",
   "mimetype": "text/x-python",
   "name": "python",
   "nbconvert_exporter": "python",
   "pygments_lexer": "ipython2",
   "version": "2.7.6"
  }
 },
 "nbformat": 4,
 "nbformat_minor": 5
}
