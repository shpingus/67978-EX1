{
 "cells": [
  {
   "cell_type": "markdown",
   "id": "ef6061e2b2caf0b",
   "metadata": {},
   "source": [
    "### Imports + Setup"
   ]
  },
  {
   "cell_type": "code",
   "execution_count": 57,
   "id": "initial_id",
   "metadata": {
    "ExecuteTime": {
     "end_time": "2025-05-13T13:51:41.549626Z",
     "start_time": "2025-05-13T13:51:41.547077Z"
    },
    "collapsed": true
   },
   "outputs": [],
   "source": [
    "import requests\n",
    "from bs4 import BeautifulSoup\n",
    "import pandas as pd\n",
    "import re  # Import the regular expression module\n",
    "from tqdm import tqdm\n",
    "import numpy as np\n",
    "\n",
    "\n",
    "output_path = \"../output/\""
   ]
  },
  {
   "cell_type": "markdown",
   "id": "31e862b2a15f9c67",
   "metadata": {},
   "source": [
    "### 4.1   Clean df demographics"
   ]
  },
  {
   "cell_type": "code",
   "execution_count": 17,
   "id": "a599c23782d8f231",
   "metadata": {
    "ExecuteTime": {
     "end_time": "2025-05-13T13:51:52.424612Z",
     "start_time": "2025-05-13T13:51:52.418109Z"
    }
   },
   "outputs": [],
   "source": [
    "df_demographics = pd.read_csv(output_path + 'demographics_data.csv')"
   ]
  },
  {
   "cell_type": "markdown",
   "id": "8034c35a131c2287",
   "metadata": {},
   "source": [
    "#### a)"
   ]
  },
  {
   "cell_type": "code",
   "execution_count": null,
   "id": "7d732b8601997afd",
   "metadata": {
    "ExecuteTime": {
     "end_time": "2025-05-13T13:56:37.111750Z",
     "start_time": "2025-05-13T13:56:37.106418Z"
    }
   },
   "outputs": [
    {
     "name": "stdout",
     "output_type": "stream",
     "text": [
      "               Country\n",
      "0          Afghanistan\n",
      "1              Albania\n",
      "2              Algeria\n",
      "3               Angola\n",
      "4  Antigua and Barbuda\n",
      "object\n"
     ]
    }
   ],
   "source": [
    "# ((df_demographics.LifeExpectancy_Both.isna()) |\n",
    "#  (40 > df_demographics.LifeExpectancy_Both) |\n",
    "#  (df_demographics.LifeExpectancy_Both > 100) |\n",
    "#  df_demographics.LifeExpectancy_Both.isnumeric())\n",
    "\n",
    "# Convert all relevant columns to numeric (except Country)\n",
    "numeric_cols = df_demographics.columns.drop(\"Country\")\n",
    "df_demographics[numeric_cols] = df_demographics[numeric_cols].apply(pd.to_numeric, errors='coerce')\n"
   ]
  },
  {
   "cell_type": "code",
   "execution_count": 6,
   "id": "c602e544911d70ab",
   "metadata": {
    "ExecuteTime": {
     "end_time": "2025-05-13T13:57:47.019220Z",
     "start_time": "2025-05-13T13:57:47.012441Z"
    }
   },
   "outputs": [
    {
     "data": {
      "text/plain": [
       "['T',\n",
       " '_AXIS_LEN',\n",
       " '_AXIS_ORDERS',\n",
       " '_AXIS_TO_AXIS_NUMBER',\n",
       " '_HANDLED_TYPES',\n",
       " '__abs__',\n",
       " '__add__',\n",
       " '__and__',\n",
       " '__annotations__',\n",
       " '__array__',\n",
       " '__array_priority__',\n",
       " '__array_ufunc__',\n",
       " '__bool__',\n",
       " '__class__',\n",
       " '__column_consortium_standard__',\n",
       " '__contains__',\n",
       " '__copy__',\n",
       " '__deepcopy__',\n",
       " '__delattr__',\n",
       " '__delitem__',\n",
       " '__dict__',\n",
       " '__dir__',\n",
       " '__divmod__',\n",
       " '__doc__',\n",
       " '__eq__',\n",
       " '__finalize__',\n",
       " '__float__',\n",
       " '__floordiv__',\n",
       " '__format__',\n",
       " '__ge__',\n",
       " '__getattr__',\n",
       " '__getattribute__',\n",
       " '__getitem__',\n",
       " '__getstate__',\n",
       " '__gt__',\n",
       " '__hash__',\n",
       " '__iadd__',\n",
       " '__iand__',\n",
       " '__ifloordiv__',\n",
       " '__imod__',\n",
       " '__imul__',\n",
       " '__init__',\n",
       " '__init_subclass__',\n",
       " '__int__',\n",
       " '__invert__',\n",
       " '__ior__',\n",
       " '__ipow__',\n",
       " '__isub__',\n",
       " '__iter__',\n",
       " '__itruediv__',\n",
       " '__ixor__',\n",
       " '__le__',\n",
       " '__len__',\n",
       " '__lt__',\n",
       " '__matmul__',\n",
       " '__mod__',\n",
       " '__module__',\n",
       " '__mul__',\n",
       " '__ne__',\n",
       " '__neg__',\n",
       " '__new__',\n",
       " '__nonzero__',\n",
       " '__or__',\n",
       " '__pandas_priority__',\n",
       " '__pos__',\n",
       " '__pow__',\n",
       " '__radd__',\n",
       " '__rand__',\n",
       " '__rdivmod__',\n",
       " '__reduce__',\n",
       " '__reduce_ex__',\n",
       " '__repr__',\n",
       " '__rfloordiv__',\n",
       " '__rmatmul__',\n",
       " '__rmod__',\n",
       " '__rmul__',\n",
       " '__ror__',\n",
       " '__round__',\n",
       " '__rpow__',\n",
       " '__rsub__',\n",
       " '__rtruediv__',\n",
       " '__rxor__',\n",
       " '__setattr__',\n",
       " '__setitem__',\n",
       " '__setstate__',\n",
       " '__sizeof__',\n",
       " '__str__',\n",
       " '__sub__',\n",
       " '__subclasshook__',\n",
       " '__truediv__',\n",
       " '__weakref__',\n",
       " '__xor__',\n",
       " '_accessors',\n",
       " '_accum_func',\n",
       " '_agg_examples_doc',\n",
       " '_agg_see_also_doc',\n",
       " '_align_for_op',\n",
       " '_align_frame',\n",
       " '_align_series',\n",
       " '_append',\n",
       " '_arith_method',\n",
       " '_as_manager',\n",
       " '_attrs',\n",
       " '_binop',\n",
       " '_cacher',\n",
       " '_can_hold_na',\n",
       " '_check_inplace_and_allows_duplicate_labels',\n",
       " '_check_is_chained_assignment_possible',\n",
       " '_check_label_or_level_ambiguity',\n",
       " '_check_setitem_copy',\n",
       " '_clear_item_cache',\n",
       " '_clip_with_one_bound',\n",
       " '_clip_with_scalar',\n",
       " '_cmp_method',\n",
       " '_consolidate',\n",
       " '_consolidate_inplace',\n",
       " '_construct_axes_dict',\n",
       " '_construct_result',\n",
       " '_constructor',\n",
       " '_constructor_expanddim',\n",
       " '_constructor_expanddim_from_mgr',\n",
       " '_constructor_from_mgr',\n",
       " '_convert_dtypes',\n",
       " '_data',\n",
       " '_deprecate_downcast',\n",
       " '_dir_additions',\n",
       " '_dir_deletions',\n",
       " '_drop_axis',\n",
       " '_drop_labels_or_levels',\n",
       " '_duplicated',\n",
       " '_expanddim_from_mgr',\n",
       " '_find_valid_index',\n",
       " '_flags',\n",
       " '_flex_method',\n",
       " '_from_mgr',\n",
       " '_get_axis',\n",
       " '_get_axis_name',\n",
       " '_get_axis_number',\n",
       " '_get_axis_resolvers',\n",
       " '_get_block_manager_axis',\n",
       " '_get_bool_data',\n",
       " '_get_cacher',\n",
       " '_get_cleaned_column_resolvers',\n",
       " '_get_index_resolvers',\n",
       " '_get_label_or_level_values',\n",
       " '_get_numeric_data',\n",
       " '_get_rows_with_mask',\n",
       " '_get_value',\n",
       " '_get_values_tuple',\n",
       " '_get_with',\n",
       " '_getitem_slice',\n",
       " '_gotitem',\n",
       " '_hidden_attrs',\n",
       " '_indexed_same',\n",
       " '_info_axis',\n",
       " '_info_axis_name',\n",
       " '_info_axis_number',\n",
       " '_init_dict',\n",
       " '_init_mgr',\n",
       " '_inplace_method',\n",
       " '_internal_names',\n",
       " '_internal_names_set',\n",
       " '_is_cached',\n",
       " '_is_copy',\n",
       " '_is_label_or_level_reference',\n",
       " '_is_label_reference',\n",
       " '_is_level_reference',\n",
       " '_is_mixed_type',\n",
       " '_is_view',\n",
       " '_item_cache',\n",
       " '_ixs',\n",
       " '_logical_func',\n",
       " '_logical_method',\n",
       " '_map_values',\n",
       " '_maybe_update_cacher',\n",
       " '_memory_usage',\n",
       " '_metadata',\n",
       " '_mgr',\n",
       " '_min_count_stat_function',\n",
       " '_name',\n",
       " '_needs_reindex_multi',\n",
       " '_pad_or_backfill',\n",
       " '_protect_consolidate',\n",
       " '_reduce',\n",
       " '_references',\n",
       " '_reindex_axes',\n",
       " '_reindex_indexer',\n",
       " '_reindex_multi',\n",
       " '_reindex_with_indexers',\n",
       " '_rename',\n",
       " '_replace_single',\n",
       " '_repr_data_resource_',\n",
       " '_repr_latex_',\n",
       " '_reset_cache',\n",
       " '_reset_cacher',\n",
       " '_set_as_cached',\n",
       " '_set_axis',\n",
       " '_set_axis_name',\n",
       " '_set_axis_nocheck',\n",
       " '_set_is_copy',\n",
       " '_set_labels',\n",
       " '_set_name',\n",
       " '_set_value',\n",
       " '_set_values',\n",
       " '_set_with',\n",
       " '_set_with_engine',\n",
       " '_shift_with_freq',\n",
       " '_slice',\n",
       " '_stat_function',\n",
       " '_stat_function_ddof',\n",
       " '_take_with_is_copy',\n",
       " '_to_latex_via_styler',\n",
       " '_typ',\n",
       " '_update_inplace',\n",
       " '_validate_dtype',\n",
       " '_values',\n",
       " '_where',\n",
       " 'abs',\n",
       " 'add',\n",
       " 'add_prefix',\n",
       " 'add_suffix',\n",
       " 'agg',\n",
       " 'aggregate',\n",
       " 'align',\n",
       " 'all',\n",
       " 'any',\n",
       " 'apply',\n",
       " 'argmax',\n",
       " 'argmin',\n",
       " 'argsort',\n",
       " 'array',\n",
       " 'asfreq',\n",
       " 'asof',\n",
       " 'astype',\n",
       " 'at',\n",
       " 'at_time',\n",
       " 'attrs',\n",
       " 'autocorr',\n",
       " 'axes',\n",
       " 'backfill',\n",
       " 'between',\n",
       " 'between_time',\n",
       " 'bfill',\n",
       " 'bool',\n",
       " 'clip',\n",
       " 'combine',\n",
       " 'combine_first',\n",
       " 'compare',\n",
       " 'convert_dtypes',\n",
       " 'copy',\n",
       " 'corr',\n",
       " 'count',\n",
       " 'cov',\n",
       " 'cummax',\n",
       " 'cummin',\n",
       " 'cumprod',\n",
       " 'cumsum',\n",
       " 'describe',\n",
       " 'diff',\n",
       " 'div',\n",
       " 'divide',\n",
       " 'divmod',\n",
       " 'dot',\n",
       " 'drop',\n",
       " 'drop_duplicates',\n",
       " 'droplevel',\n",
       " 'dropna',\n",
       " 'dtype',\n",
       " 'dtypes',\n",
       " 'duplicated',\n",
       " 'empty',\n",
       " 'eq',\n",
       " 'equals',\n",
       " 'ewm',\n",
       " 'expanding',\n",
       " 'explode',\n",
       " 'factorize',\n",
       " 'ffill',\n",
       " 'fillna',\n",
       " 'filter',\n",
       " 'first',\n",
       " 'first_valid_index',\n",
       " 'flags',\n",
       " 'floordiv',\n",
       " 'ge',\n",
       " 'get',\n",
       " 'groupby',\n",
       " 'gt',\n",
       " 'hasnans',\n",
       " 'head',\n",
       " 'hist',\n",
       " 'iat',\n",
       " 'idxmax',\n",
       " 'idxmin',\n",
       " 'iloc',\n",
       " 'index',\n",
       " 'infer_objects',\n",
       " 'info',\n",
       " 'interpolate',\n",
       " 'is_monotonic_decreasing',\n",
       " 'is_monotonic_increasing',\n",
       " 'is_unique',\n",
       " 'isin',\n",
       " 'isna',\n",
       " 'isnull',\n",
       " 'item',\n",
       " 'items',\n",
       " 'keys',\n",
       " 'kurt',\n",
       " 'kurtosis',\n",
       " 'last',\n",
       " 'last_valid_index',\n",
       " 'le',\n",
       " 'loc',\n",
       " 'lt',\n",
       " 'map',\n",
       " 'mask',\n",
       " 'max',\n",
       " 'mean',\n",
       " 'median',\n",
       " 'memory_usage',\n",
       " 'min',\n",
       " 'mod',\n",
       " 'mode',\n",
       " 'mul',\n",
       " 'multiply',\n",
       " 'name',\n",
       " 'nbytes',\n",
       " 'ndim',\n",
       " 'ne',\n",
       " 'nlargest',\n",
       " 'notna',\n",
       " 'notnull',\n",
       " 'nsmallest',\n",
       " 'nunique',\n",
       " 'pad',\n",
       " 'pct_change',\n",
       " 'pipe',\n",
       " 'plot',\n",
       " 'pop',\n",
       " 'pow',\n",
       " 'prod',\n",
       " 'product',\n",
       " 'quantile',\n",
       " 'radd',\n",
       " 'rank',\n",
       " 'ravel',\n",
       " 'rdiv',\n",
       " 'rdivmod',\n",
       " 'reindex',\n",
       " 'reindex_like',\n",
       " 'rename',\n",
       " 'rename_axis',\n",
       " 'reorder_levels',\n",
       " 'repeat',\n",
       " 'replace',\n",
       " 'resample',\n",
       " 'reset_index',\n",
       " 'rfloordiv',\n",
       " 'rmod',\n",
       " 'rmul',\n",
       " 'rolling',\n",
       " 'round',\n",
       " 'rpow',\n",
       " 'rsub',\n",
       " 'rtruediv',\n",
       " 'sample',\n",
       " 'searchsorted',\n",
       " 'sem',\n",
       " 'set_axis',\n",
       " 'set_flags',\n",
       " 'shape',\n",
       " 'shift',\n",
       " 'size',\n",
       " 'skew',\n",
       " 'sort_index',\n",
       " 'sort_values',\n",
       " 'squeeze',\n",
       " 'std',\n",
       " 'sub',\n",
       " 'subtract',\n",
       " 'sum',\n",
       " 'swapaxes',\n",
       " 'swaplevel',\n",
       " 'tail',\n",
       " 'take',\n",
       " 'to_clipboard',\n",
       " 'to_csv',\n",
       " 'to_dict',\n",
       " 'to_excel',\n",
       " 'to_frame',\n",
       " 'to_hdf',\n",
       " 'to_json',\n",
       " 'to_latex',\n",
       " 'to_list',\n",
       " 'to_markdown',\n",
       " 'to_numpy',\n",
       " 'to_period',\n",
       " 'to_pickle',\n",
       " 'to_sql',\n",
       " 'to_string',\n",
       " 'to_timestamp',\n",
       " 'to_xarray',\n",
       " 'transform',\n",
       " 'transpose',\n",
       " 'truediv',\n",
       " 'truncate',\n",
       " 'tz_convert',\n",
       " 'tz_localize',\n",
       " 'unique',\n",
       " 'unstack',\n",
       " 'update',\n",
       " 'value_counts',\n",
       " 'values',\n",
       " 'var',\n",
       " 'view',\n",
       " 'where',\n",
       " 'xs']"
      ]
     },
     "execution_count": 6,
     "metadata": {},
     "output_type": "execute_result"
    }
   ],
   "source": [
    "dir(df_demographics.LifeExpectancy_Both)"
   ]
  },
  {
   "cell_type": "markdown",
   "id": "b9ca8921",
   "metadata": {},
   "source": [
    "b)"
   ]
  },
  {
   "cell_type": "code",
   "execution_count": null,
   "id": "e98ecc4b97cc9089",
   "metadata": {},
   "outputs": [
    {
     "name": "stdout",
     "output_type": "stream",
     "text": [
      "               Country\n",
      "0          Afghanistan\n",
      "1              Albania\n",
      "2              Algeria\n",
      "3               Angola\n",
      "4  Antigua and Barbuda\n",
      "object\n"
     ]
    }
   ],
   "source": [
    "# Filter conditions for valid life expectancy\n",
    "mask_valid_life = (\n",
    "    df_demographics[\"LifeExpectancy_Both\"].notna() &\n",
    "    (df_demographics[\"LifeExpectancy_Both\"] >= 40) &\n",
    "    (df_demographics[\"LifeExpectancy_Both\"] <= 100)\n",
    ")\n",
    "\n",
    "# Apply filter\n",
    "df_demographics = df_demographics[mask_valid_life].copy()\n"
   ]
  },
  {
   "cell_type": "markdown",
   "id": "db1a7ee4",
   "metadata": {},
   "source": [
    "C)"
   ]
  },
  {
   "cell_type": "code",
   "execution_count": 23,
   "id": "24c51215",
   "metadata": {},
   "outputs": [],
   "source": [
    "# Ensure proper numeric conversion and handle \"None\" or invalids\n",
    "urban_cols = [\"UrbanPopulation_Percentage\", \"UrbanPopulation_Absolute\", \"PopulationDensity\"]\n",
    "df_demographics[urban_cols] = df_demographics[urban_cols].apply(pd.to_numeric, errors='coerce')\n",
    "\n"
   ]
  },
  {
   "cell_type": "markdown",
   "id": "e15484cf",
   "metadata": {},
   "source": [
    "d)"
   ]
  },
  {
   "cell_type": "code",
   "execution_count": null,
   "id": "90f90b18",
   "metadata": {},
   "outputs": [
    {
     "name": "stdout",
     "output_type": "stream",
     "text": [
      "               Country\n",
      "0          Afghanistan\n",
      "1              Albania\n",
      "2              Algeria\n",
      "3               Angola\n",
      "4  Antigua And Barbuda\n",
      "object\n"
     ]
    }
   ],
   "source": [
    "# Make a copy of original names for mismatch logging\n",
    "df_demographics[\"OriginalCountry\"] = df_demographics[\"Country\"]\n",
    "\n",
    "# Normalize names\n",
    "df_demographics[\"Country\"] = (\n",
    "    df_demographics[\"Country\"]\n",
    "    .str.strip()\n",
    "    .str.replace(r\"^the\\s+\", \"\", case=False, regex=True)  # remove \"the \"\n",
    "    .str.title()\n",
    ")\n"
   ]
  },
  {
   "cell_type": "markdown",
   "id": "c5584cf9",
   "metadata": {},
   "source": [
    "e)"
   ]
  },
  {
   "cell_type": "code",
   "execution_count": 26,
   "id": "b7ce5936",
   "metadata": {},
   "outputs": [],
   "source": [
    "# Create a DataFrame of name mismatches\n",
    "name_mismatches = df_demographics[df_demographics[\"OriginalCountry\"] != df_demographics[\"Country\"]][\n",
    "    [\"OriginalCountry\", \"Country\"]\n",
    "]\n",
    "\n",
    "# Save mismatches to file\n",
    "name_mismatches.to_csv(output_path + \"name_mismatches.csv\", index=False)\n"
   ]
  },
  {
   "cell_type": "markdown",
   "id": "35875602",
   "metadata": {},
   "source": [
    "f)"
   ]
  },
  {
   "cell_type": "code",
   "execution_count": 34,
   "id": "ad1a6b4b",
   "metadata": {},
   "outputs": [],
   "source": [
    "# Drop OriginalCountry column and set Country as index\n",
    "if \"OriginalCountry\" in df_demographics.columns:\n",
    "    df_demographics.drop(columns=\"OriginalCountry\", inplace=True)\n",
    "if df_demographics.index.name != \"Country\":\n",
    "    df_demographics.set_index(\"Country\", inplace=True)\n"
   ]
  },
  {
   "cell_type": "markdown",
   "id": "d9e86ae3",
   "metadata": {},
   "source": [
    "## 4.2) Clean df gdp"
   ]
  },
  {
   "cell_type": "markdown",
   "id": "2cb61131",
   "metadata": {},
   "source": [
    "a)"
   ]
  },
  {
   "cell_type": "code",
   "execution_count": 42,
   "id": "43b84017",
   "metadata": {},
   "outputs": [],
   "source": [
    "df_gdp = pd.read_csv('../gdp_per_capita_2021.csv')\n",
    "# Remove commas or special characters and convert to numeric\n",
    "df_gdp['GDP_per_capita_PPP'] = (\n",
    "    df_gdp['GDP_per_capita_PPP']\n",
    "    \n",
    "    # Convert all values to string type to allow regex operations\n",
    "    .astype(str)\n",
    "    \n",
    "    # Use regular expression to remove all characters that are not digits or decimal points\n",
    "    .str.replace(r'[^\\d\\.]', '', regex=True)\n",
    "    \n",
    "    # Replace any resulting empty strings (e.g., originally \"None\") with proper missing value (NA)\n",
    "    .replace('', pd.NA)\n",
    ")\n",
    "\n",
    "# Convert the cleaned strings to actual numeric (float) values\n",
    "# Any remaining invalid formats are coerced to NaN\n",
    "df_gdp['GDP_per_capita_PPP'] = pd.to_numeric(df_gdp['GDP_per_capita_PPP'], errors='coerce')\n"
   ]
  },
  {
   "cell_type": "markdown",
   "id": "30cb1cb4",
   "metadata": {},
   "source": [
    "b)"
   ]
  },
  {
   "cell_type": "code",
   "execution_count": 44,
   "id": "ba4994cd",
   "metadata": {},
   "outputs": [],
   "source": [
    "# Document rows with missing GDP\n",
    "dropped_gdp = df_gdp[df_gdp['GDP_per_capita_PPP'].isna()]\n",
    "dropped_gdp.to_csv(output_path + \"dropped_gdp.csv\", index=False)\n",
    "\n",
    "# Drop them from the dataset\n",
    "df_gdp.dropna(subset=[\"GDP_per_capita_PPP\"], inplace=True)\n"
   ]
  },
  {
   "cell_type": "markdown",
   "id": "be4d3cf3",
   "metadata": {},
   "source": [
    "c)"
   ]
  },
  {
   "cell_type": "code",
   "execution_count": 58,
   "id": "971725d9",
   "metadata": {},
   "outputs": [
    {
     "name": "stdout",
     "output_type": "stream",
     "text": [
      "Number of outliers in GDP data: 6\n",
      "Outliers:\n",
      "            GDP_per_capita_PPP\n",
      "Country                       \n",
      "Bermuda              92276.234\n",
      "Ireland             118102.766\n",
      "Luxembourg          137947.340\n",
      "Norway               89209.140\n",
      "Qatar               116832.570\n",
      "Singapore           131864.100\n"
     ]
    }
   ],
   "source": [
    "Q1 = df_gdp['GDP_per_capita_PPP'].quantile(0.25)\n",
    "Q3 = df_gdp['GDP_per_capita_PPP'].quantile(0.75)\n",
    "IQR = Q3 - Q1\n",
    "\n",
    "lower_bound = Q1 - 1.5 * IQR\n",
    "upper_bound = Q3 + 1.5 * IQR\n",
    "\n",
    "outliers = df_gdp[\n",
    "    (df_gdp['GDP_per_capita_PPP'] < lower_bound) |\n",
    "    (df_gdp['GDP_per_capita_PPP'] > upper_bound)\n",
    "]\n",
    "\n",
    "print(f\"Number of outliers in GDP data: {len(outliers)}\")\n",
    "print (f\"Outliers:\\n{outliers}\")\n"
   ]
  },
  {
   "cell_type": "markdown",
   "id": "9a1feb6b",
   "metadata": {},
   "source": [
    "d)"
   ]
  },
  {
   "cell_type": "code",
   "execution_count": null,
   "id": "ff553a28",
   "metadata": {},
   "outputs": [
    {
     "name": "stdout",
     "output_type": "stream",
     "text": [
      "The Population dataset was checked for duplicate entries based on the Country column.\n",
      "Result: No duplicate country entries were found.\n",
      "Therefore, no rows were removed or modified during this step.\n"
     ]
    }
   ],
   "source": [
    "# Duplicate Handling Documentation\n",
    "# Check for countries that appear more than once.\n",
    "# If duplicates are found, we:\n",
    "#   - Save all duplicate entries to 'duplicate_gdp_entries.csv' for record keeping.\n",
    "#   - Retain only the first occurrence of each country using `keep='first'`.\n",
    "#     This is based on the assumption that the first entry is correct or representative,\n",
    "#     and no additional criteria (e.g., recency, source reliability) are available to decide otherwise.\n",
    "# This ensures consistency in merging/joining with other datasets later.\n",
    "\n",
    "# Check for duplicates\n",
    "duplicates = df_gdp[df_gdp.duplicated(subset=['Country'], keep=False)]\n",
    "\n",
    "if not duplicates.empty:\n",
    "    print(\"Duplicate entries found:\\n\", duplicates)\n",
    "    print(\"The Population dataset contains duplicate country entries.\")\n",
    "    print(\"Decision: Keeping only the first occurrence of each duplicated country.\")\n",
    "    df_pop = df_gdp.drop_duplicates(subset=['Country'], keep='first')\n",
    "else:\n",
    "    print(\"The Population dataset was checked for duplicate entries based on the Country column.\")\n",
    "    print(\"Result: No duplicate country entries were found.\")\n",
    "    print(\"Therefore, no rows were removed or modified during this step.\")\n"
   ]
  },
  {
   "cell_type": "markdown",
   "id": "7afb67e2",
   "metadata": {},
   "source": [
    "e)"
   ]
  },
  {
   "cell_type": "code",
   "execution_count": 62,
   "id": "b9ffdd01",
   "metadata": {},
   "outputs": [],
   "source": [
    "# Make a copy of original names for mismatch logging\n",
    "df_gdp[\"OriginalCountry\"] = df_gdp[\"Country\"]\n",
    "\n",
    "# Normalize names\n",
    "df_gdp[\"Country\"] = (\n",
    "    df_gdp[\"Country\"]\n",
    "    .str.strip()\n",
    "    .str.replace(r\"^the\\s+\", \"\", case=False, regex=True)  # remove \"the \"\n",
    "    .str.title()\n",
    ")\n",
    "\n",
    "# Log any name mismatches due to normalization\n",
    "gdp_name_mismatches = df_gdp[df_gdp[\"OriginalCountry\"] != df_gdp[\"Country\"]][\n",
    "    [\"OriginalCountry\", \"Country\"]\n",
    "]\n",
    "gdp_name_mismatches.to_csv(\"../output/gdp_name_mismatches.csv\", index=False)"
   ]
  },
  {
   "cell_type": "markdown",
   "id": "85692c40",
   "metadata": {},
   "source": [
    "f)"
   ]
  },
  {
   "cell_type": "code",
   "execution_count": 63,
   "id": "d911283e",
   "metadata": {},
   "outputs": [],
   "source": [
    "# Drop the temporary 'OriginalCountry' column\n",
    "if \"OriginalCountry\" in df_gdp.columns:\n",
    "    df_gdp.drop(columns=\"OriginalCountry\", inplace=True)\n",
    "\n",
    "# Set Country as the index for consistency\n",
    "if df_gdp.index.name != \"Country\":\n",
    "    df_gdp.set_index(\"Country\", inplace=True)\n"
   ]
  },
  {
   "cell_type": "markdown",
   "id": "6e924199",
   "metadata": {},
   "source": [
    "## 4.3 Clean df_pop"
   ]
  },
  {
   "cell_type": "markdown",
   "id": "409f2b56",
   "metadata": {},
   "source": [
    "a)"
   ]
  },
  {
   "cell_type": "code",
   "execution_count": null,
   "id": "266c1750",
   "metadata": {},
   "outputs": [
    {
     "name": "stdout",
     "output_type": "stream",
     "text": [
      "       Country  Population\n",
      "0  Afghanistan    40000360\n",
      "1       Africa  1413750475\n",
      "2  Africa (UN)  1413753005\n",
      "3      Albania     2849591\n",
      "4      Algeria    44761051\n"
     ]
    }
   ],
   "source": [
    "# Ensure Population is numeric\n",
    "df_pop = pd.read_csv('../population_2021.csv')\n",
    "\n",
    "# Convert Population column to string to ensure compatibility with string operations\n",
    "df_pop['Population'] = df_pop['Population'].astype(str)\n",
    "\n",
    "# Remove all non-numeric characters using a regular expression\n",
    "# This removes commas, spaces, and any other symbols except digits and decimal points\n",
    "df_pop['Population'] = df_pop['Population'].str.replace(r\"[^\\d.]\", \"\", regex=True)\n",
    "\n",
    "# Convert the cleaned strings back to numeric values (floats)\n",
    "# Invalid parsing will become NaN\n",
    "df_pop['Population'] = pd.to_numeric(df_pop['Population'], errors='coerce')\n",
    "\n",
    "# print(df_pop.head())"
   ]
  },
  {
   "cell_type": "markdown",
   "id": "54629dc3",
   "metadata": {},
   "source": [
    "b)"
   ]
  },
  {
   "cell_type": "code",
   "execution_count": 56,
   "id": "dde8321d",
   "metadata": {},
   "outputs": [
    {
     "name": "stdout",
     "output_type": "stream",
     "text": [
      "Number of rows removed due to missing population data: 0\n"
     ]
    }
   ],
   "source": [
    "# Remove missing Population values\n",
    "\n",
    "before_rows = len(df_pop)\n",
    "df_pop = df_pop.dropna(subset=['Population'])\n",
    "after_rows = len(df_pop)\n",
    "rows_removed = before_rows - after_rows\n",
    "\n",
    "# Log the number of rows removed\n",
    "print(f\"Number of rows removed due to missing population data: {rows_removed}\")\n"
   ]
  },
  {
   "cell_type": "markdown",
   "id": "ad384ef0",
   "metadata": {},
   "source": [
    "c)"
   ]
  },
  {
   "cell_type": "code",
   "execution_count": null,
   "id": "fd107f22",
   "metadata": {},
   "outputs": [
    {
     "name": "stdout",
     "output_type": "stream",
     "text": [
      "Number of population outliers (after log10 transform): 1\n",
      "Population outliers:\n",
      "      Country  Population  Log10_Population\n",
      "251  Vatican         515          2.711807\n"
     ]
    }
   ],
   "source": [
    "# Outlier detection on log-transformed population ===\n",
    "\n",
    "# Log10-transformation to the population\n",
    "df_pop['Log10_Population'] = np.log10(df_pop['Population'])\n",
    "\n",
    "# Apply the Tukey method\n",
    "Q1 = df_pop['Log10_Population'].quantile(0.25)\n",
    "Q3 = df_pop['Log10_Population'].quantile(0.75)\n",
    "IQR = Q3 - Q1\n",
    "lower_bound = Q1 - 1.5 * IQR\n",
    "upper_bound = Q3 + 1.5 * IQR\n",
    "\n",
    "# Identify outliers\n",
    "pop_outliers = df_pop[\n",
    "    (df_pop['Log10_Population'] < lower_bound) |\n",
    "    (df_pop['Log10_Population'] > upper_bound)\n",
    "]\n",
    "\n",
    "print(f\"Number of population outliers (after log10 transform): {len(pop_outliers)}\")\n",
    "# Print the outliers\n",
    "print(\"Population outliers:\\n\", pop_outliers)"
   ]
  },
  {
   "cell_type": "markdown",
   "id": "b5fe468d",
   "metadata": {},
   "source": [
    "d)"
   ]
  },
  {
   "cell_type": "code",
   "execution_count": 68,
   "id": "1d718def",
   "metadata": {},
   "outputs": [
    {
     "name": "stdout",
     "output_type": "stream",
     "text": [
      "The Population dataset was checked for duplicate entries based on the Country column.\n",
      "Result: No duplicate country entries were found.\n",
      "Therefore, no rows were removed or modified during this step.\n"
     ]
    }
   ],
   "source": [
    "# Duplicate check and country name normalization ===\n",
    "\n",
    "# Duplicate Handling Documentation\n",
    "# Check for countries that appear more than once.\n",
    "# If duplicates are found, we:\n",
    "#   - Print the duplicate entries for review.\n",
    "#   - Retain only the first occurrence of each country using `keep='first'`.\n",
    "#     This is based on the assumption that the first entry is correct or representative,\n",
    "#     and no additional criteria (e.g., recency, source reliability) are available to decide otherwise.\n",
    "# This ensures consistency in merging/joining with other datasets later.\n",
    "\n",
    "# Check for duplicates based on Country column\n",
    "duplicates = df_pop[df_pop.duplicated(subset=['Country'], keep=False)]\n",
    "\n",
    "if not duplicates.empty:\n",
    "    print(\"Duplicate entries found:\\n\", duplicates)\n",
    "    print(\"The Population dataset contains duplicate country entries.\")\n",
    "    print(\"Decision: Keeping only the first occurrence of each duplicated country.\")\n",
    "    df_pop = df_pop.drop_duplicates(subset=['Country'], keep='first')\n",
    "else:\n",
    "    print(\"The Population dataset was checked for duplicate entries based on the Country column.\")\n",
    "    print(\"Result: No duplicate country entries were found.\")\n",
    "    print(\"Therefore, no rows were removed or modified during this step.\")\n",
    "\n",
    "# Country name normalization (same logic as demographics & GDP datasets)\n",
    "df_pop[\"OriginalCountry\"] = df_pop[\"Country\"]\n",
    "\n",
    "df_pop[\"Country\"] = (\n",
    "    df_pop[\"Country\"]\n",
    "    .str.strip()\n",
    "    .str.replace(r\"^the\\s+\", \"\", case=False, regex=True)\n",
    "    .str.title()\n",
    ")\n",
    "\n",
    "# Log mismatches between original and normalized names\n",
    "name_mismatches = df_pop[df_pop[\"OriginalCountry\"] != df_pop[\"Country\"]][\n",
    "    [\"OriginalCountry\", \"Country\"]\n",
    "]\n",
    "name_mismatches.to_csv(\"../output/pop_name_mismatches.csv\", index=False)"
   ]
  },
  {
   "cell_type": "markdown",
   "id": "c323d1fa",
   "metadata": {},
   "source": [
    "e)"
   ]
  },
  {
   "cell_type": "code",
   "execution_count": 69,
   "id": "6f6a15c6",
   "metadata": {},
   "outputs": [],
   "source": [
    "# Drop the temporary 'OriginalCountry' column\n",
    "if \"OriginalCountry\" in df_gdp.columns:\n",
    "    df_pop.drop(columns=\"OriginalCountry\", inplace=True)\n",
    "\n",
    "# Set Country as the index for consistency\n",
    "if df_gdp.index.name != \"Country\":\n",
    "    df_pop.set_index(\"Country\", inplace=True)\n"
   ]
  }
 ],
 "metadata": {
  "kernelspec": {
   "display_name": "Python 3",
   "language": "python",
   "name": "python3"
  },
  "language_info": {
   "codemirror_mode": {
    "name": "ipython",
    "version": 3
   },
   "file_extension": ".py",
   "mimetype": "text/x-python",
   "name": "python",
   "nbconvert_exporter": "python",
   "pygments_lexer": "ipython3",
   "version": "3.10.11"
  }
 },
 "nbformat": 4,
 "nbformat_minor": 5
}
