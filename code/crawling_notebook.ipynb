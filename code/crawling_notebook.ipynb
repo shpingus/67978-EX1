{
 "cells": [
  {
   "metadata": {},
   "cell_type": "markdown",
   "source": "## Imports",
   "id": "8fd24d03430fa5b4"
  },
  {
   "cell_type": "code",
   "id": "initial_id",
   "metadata": {
    "collapsed": true,
    "ExecuteTime": {
     "end_time": "2025-05-13T11:58:32.951697Z",
     "start_time": "2025-05-13T11:58:32.944669Z"
    }
   },
   "source": [
    "import requests\n",
    "from bs4 import BeautifulSoup\n",
    "import pandas as pd\n",
    "import re  # Import the regular expression module\n",
    "from tqdm import tqdm"
   ],
   "outputs": [],
   "execution_count": 132
  },
  {
   "metadata": {},
   "cell_type": "markdown",
   "source": "## Setups",
   "id": "cb9bbe1012d8a42b"
  },
  {
   "metadata": {
    "ExecuteTime": {
     "end_time": "2025-05-13T13:00:14.139158Z",
     "start_time": "2025-05-13T13:00:14.136465Z"
    }
   },
   "cell_type": "code",
   "source": "output_path = \"../output/\"",
   "id": "94dc3fe369584bc2",
   "outputs": [],
   "execution_count": 169
  },
  {
   "metadata": {},
   "cell_type": "markdown",
   "source": "## 3.1 Web-crawling Demographics Data",
   "id": "1068c66623415af6"
  },
  {
   "metadata": {
    "ExecuteTime": {
     "end_time": "2025-05-13T11:58:35.749561Z",
     "start_time": "2025-05-13T11:58:34.081306Z"
    }
   },
   "cell_type": "code",
   "source": [
    "SCRAPE_SOURCE = \"https://www.worldometers.info/demographics/\"\n",
    "SCRAPE_ROOT = \"https://www.worldometers.info\"\n",
    "response = requests.get(SCRAPE_SOURCE)\n",
    "response.raise_for_status()  # Raise an exception for bad status codes\n",
    "soup = BeautifulSoup(response.content, 'html.parser')"
   ],
   "id": "f4ea8cc1b7b2258d",
   "outputs": [],
   "execution_count": 133
  },
  {
   "metadata": {},
   "cell_type": "code",
   "outputs": [],
   "execution_count": null,
   "source": [
    "# Initialize a list to collect demographic data\n",
    "demographics_data = []\n",
    "\n",
    "df_demographics = pd.DataFrame(columns=[\"Country\",\n",
    "                                        \"LifeExpectancy_Both\",  # (Both Sexes, in years)\n",
    "                                        \"LifeExpectancy_Female\",  # (Females, in years)\n",
    "                                        \"LifeExpectancy_Male\",  # (Males, in years)\n",
    "                                        \"UrbanPopulation_Percentage\",  # (percentage without commas)\n",
    "                                        \"UrbanPopulation_Absolute\",  # (if available)\n",
    "                                        \"PopulationDensity\"])\n",
    "progress_bar = tqdm(soup.find_all(attrs={'data-country': True}))\n",
    "for country_link in progress_bar:\n",
    "    progress_bar.set_description(f\"Scraping data for {country_link.text.strip()}\")\n",
    "\n",
    "    country_url = SCRAPE_ROOT + soup.find_all(attrs={'data-country': True})[0]['href']\n",
    "    country_url = SCRAPE_ROOT + country_link['href']  # Fixed to use current country_link\n",
    "\n",
    "    response = requests.get(country_url)\n",
    "    country_soup = BeautifulSoup(response.content, 'html.parser')\n",
    "\n",
    "    # Get life expectancies\n",
    "    expectancies = map( lambda x: float(x.text.strip()), country_soup.find_all(attrs={'class': 'grid grid-col-1 lg:grid-cols-3 gap-4'})[0].find_all(\n",
    "                          attrs={'class': 'text-2xl font-bold mb-1.5'}))\n",
    "\n",
    "    expectancies = list(expectancies)  # Convert map object to list\n",
    "\n",
    "    # Get urban population data\n",
    "    populations= re.findall('\\d+\\.?\\d+',\n",
    "                        country_soup.find(lambda tag: tag.name == 'p' and 'Currently' in tag.text).text.replace(',', ''))[0:2]\n",
    "    # Dealing with lack of absolute number\n",
    "    if len(populations) == 1:\n",
    "        populations.append('None')\n",
    "\n",
    "    # Get population density\n",
    "    density = re.findall('\\d+\\.?\\d+',\n",
    "                        country_soup.find(lambda tag: tag.name == 'p' and 'population density in ' in tag.text).text.replace(',', ''))[0:2]\n",
    "    populations.append(density[1])\n",
    "    # Populations = [percentage urban, total population, population density per sqkm]\n",
    "\n",
    "    # Append data as a list to demographics_data\n",
    "    demographics_data.append([\n",
    "        country_link.text.strip(),  # Country name\n",
    "        *expectancies,              # Life expectancy (Both, Female, Male)\n",
    "        *populations               # Urban population percentage, absolute, and density\n",
    "    ])\n"
   ],
   "id": "636f6f21d1384edb"
  },
  {
   "metadata": {
    "ExecuteTime": {
     "end_time": "2025-05-13T12:13:46.052581Z",
     "start_time": "2025-05-13T12:13:46.047264Z"
    }
   },
   "cell_type": "code",
   "source": [
    "# Create DataFrame from collected data\n",
    "df_demographics = pd.DataFrame(\n",
    "    demographics_data,\n",
    "    columns=[\"Country\", \"LifeExpectancy_Both\", \"LifeExpectancy_Female\", \"LifeExpectancy_Male\",\n",
    "             \"UrbanPopulation_Percentage\", \"UrbanPopulation_Absolute\", \"PopulationDensity\"]\n",
    ").apply(pd.to_numeric, errors='ignore')"
   ],
   "id": "33b45b82a684acdb",
   "outputs": [
    {
     "name": "stderr",
     "output_type": "stream",
     "text": [
      "/var/folders/x7/gwjk9h594mxb48nxl8w517sm0000gn/T/ipykernel_86085/735364438.py:3: FutureWarning: errors='ignore' is deprecated and will raise in a future version. Use to_numeric without passing `errors` and catch exceptions explicitly instead\n",
      "  df_demographics = pd.DataFrame(\n"
     ]
    }
   ],
   "execution_count": 151
  },
  {
   "metadata": {
    "ExecuteTime": {
     "end_time": "2025-05-13T12:48:44.905011Z",
     "start_time": "2025-05-13T12:48:44.896471Z"
    }
   },
   "cell_type": "code",
   "source": [
    "df_demographics.to_csv(output_path + 'demographics_data.csv', index=False)\n",
    "head = df_demographics.head(10)\n",
    "head.to_csv(output_path + 'demographics_before_sort.csv', index=False)\n",
    "head.sort_values('Country', inplace=False).to_csv(output_path + 'demographics_after_sort.csv', index=False)"
   ],
   "id": "22029c2c70281351",
   "outputs": [],
   "execution_count": 160
  },
  {
   "metadata": {},
   "cell_type": "markdown",
   "source": "### Testing for country 0",
   "id": "4f5e767835bdd3b9"
  },
  {
   "metadata": {},
   "cell_type": "code",
   "outputs": [],
   "execution_count": null,
   "source": "(country_url := SCRAPE_ROOT + soup.find_all(attrs={'data-country': True})[0]['href'])",
   "id": "65ce785afc32b02"
  },
  {
   "metadata": {},
   "cell_type": "code",
   "outputs": [],
   "execution_count": null,
   "source": "response = requests.get(country_url)",
   "id": "67a5a24a66198b39"
  },
  {
   "metadata": {},
   "cell_type": "markdown",
   "source": "#### Getting Life Expectancy",
   "id": "7ac1478e19c18fb3"
  },
  {
   "metadata": {},
   "cell_type": "code",
   "outputs": [],
   "execution_count": null,
   "source": [
    "country_soup = BeautifulSoup(response.content, 'html.parser')\n",
    "expectancies = map(lambda x: float(x.text.strip()),\n",
    "                   country_soup.find_all(attrs={'class': 'grid grid-col-1 lg:grid-cols-3 gap-4'})[0].find_all(\n",
    "                       attrs={'class': 'text-2xl font-bold mb-1.5'}))\n",
    "list(expectancies)"
   ],
   "id": "ed702eaf7ec343a6"
  },
  {
   "metadata": {},
   "cell_type": "markdown",
   "source": "#### Getting Population",
   "id": "68cc48243df1c8d1"
  },
  {
   "metadata": {},
   "cell_type": "code",
   "outputs": [],
   "execution_count": null,
   "source": [
    "populations = re.findall('\\d+\\.?\\d+',\n",
    "                         country_soup.find(lambda tag: tag.name == 'p' and 'Currently' in tag.text).text.replace(',',\n",
    "                                                                                                                 ''))[\n",
    "              0:2]\n",
    "# Dealing with lack of absolute number\n",
    "if len(populations) == 1:\n",
    "    populations.append('None')\n",
    "populations"
   ],
   "id": "c4916f297d76767b"
  },
  {
   "metadata": {},
   "cell_type": "markdown",
   "source": "#### Getting Population Density",
   "id": "17505254ed78de1a"
  },
  {
   "metadata": {},
   "cell_type": "code",
   "outputs": [],
   "execution_count": null,
   "source": [
    "density = re.findall('\\d+\\.?\\d+',\n",
    "                     country_soup.find(\n",
    "                         lambda tag: tag.name == 'p' and 'population density in ' in tag.text).text.replace(',', ''))[\n",
    "          0:2]\n",
    "populations.append(density[1])\n",
    "populations"
   ],
   "id": "507ee6009ee1b74a"
  },
  {
   "metadata": {},
   "cell_type": "markdown",
   "source": "## 3.2 Load the 2021 CSVs",
   "id": "87c4f10f1243f67d"
  },
  {
   "metadata": {},
   "cell_type": "markdown",
   "source": "### a) Reading CSVs",
   "id": "d4d156a724d57f75"
  },
  {
   "metadata": {
    "ExecuteTime": {
     "end_time": "2025-05-13T12:51:49.714191Z",
     "start_time": "2025-05-13T12:51:49.707571Z"
    }
   },
   "cell_type": "code",
   "source": [
    "df_gdp = pd.read_csv('../gdp_per_capita_2021.csv', na_values=['None'])\n",
    "df_pop = pd.read_csv('../population_2021.csv', na_values=['None'])"
   ],
   "id": "138d7a2f7a5d47b0",
   "outputs": [],
   "execution_count": 164
  },
  {
   "metadata": {},
   "cell_type": "markdown",
   "source": "### b) verifying contents",
   "id": "906210bbbdb7b58f"
  },
  {
   "metadata": {
    "ExecuteTime": {
     "end_time": "2025-05-13T12:52:24.205091Z",
     "start_time": "2025-05-13T12:52:24.199060Z"
    }
   },
   "cell_type": "code",
   "source": "df_gdp.head(1)",
   "id": "ef4648412572391e",
   "outputs": [
    {
     "data": {
      "text/plain": [
       "       Country  GDP_per_capita_PPP\n",
       "0  Afghanistan           2144.1665"
      ],
      "text/html": [
       "<div>\n",
       "<style scoped>\n",
       "    .dataframe tbody tr th:only-of-type {\n",
       "        vertical-align: middle;\n",
       "    }\n",
       "\n",
       "    .dataframe tbody tr th {\n",
       "        vertical-align: top;\n",
       "    }\n",
       "\n",
       "    .dataframe thead th {\n",
       "        text-align: right;\n",
       "    }\n",
       "</style>\n",
       "<table border=\"1\" class=\"dataframe\">\n",
       "  <thead>\n",
       "    <tr style=\"text-align: right;\">\n",
       "      <th></th>\n",
       "      <th>Country</th>\n",
       "      <th>GDP_per_capita_PPP</th>\n",
       "    </tr>\n",
       "  </thead>\n",
       "  <tbody>\n",
       "    <tr>\n",
       "      <th>0</th>\n",
       "      <td>Afghanistan</td>\n",
       "      <td>2144.1665</td>\n",
       "    </tr>\n",
       "  </tbody>\n",
       "</table>\n",
       "</div>"
      ]
     },
     "execution_count": 166,
     "metadata": {},
     "output_type": "execute_result"
    }
   ],
   "execution_count": 166
  },
  {
   "metadata": {
    "ExecuteTime": {
     "end_time": "2025-05-13T12:52:29.173667Z",
     "start_time": "2025-05-13T12:52:29.169759Z"
    }
   },
   "cell_type": "code",
   "source": "df_pop.head(1)",
   "id": "d7858ee032a7bf90",
   "outputs": [
    {
     "data": {
      "text/plain": [
       "       Country  Population\n",
       "0  Afghanistan    40000360"
      ],
      "text/html": [
       "<div>\n",
       "<style scoped>\n",
       "    .dataframe tbody tr th:only-of-type {\n",
       "        vertical-align: middle;\n",
       "    }\n",
       "\n",
       "    .dataframe tbody tr th {\n",
       "        vertical-align: top;\n",
       "    }\n",
       "\n",
       "    .dataframe thead th {\n",
       "        text-align: right;\n",
       "    }\n",
       "</style>\n",
       "<table border=\"1\" class=\"dataframe\">\n",
       "  <thead>\n",
       "    <tr style=\"text-align: right;\">\n",
       "      <th></th>\n",
       "      <th>Country</th>\n",
       "      <th>Population</th>\n",
       "    </tr>\n",
       "  </thead>\n",
       "  <tbody>\n",
       "    <tr>\n",
       "      <th>0</th>\n",
       "      <td>Afghanistan</td>\n",
       "      <td>40000360</td>\n",
       "    </tr>\n",
       "  </tbody>\n",
       "</table>\n",
       "</div>"
      ]
     },
     "execution_count": 167,
     "metadata": {},
     "output_type": "execute_result"
    }
   ],
   "execution_count": 167
  },
  {
   "metadata": {},
   "cell_type": "markdown",
   "source": "### c) ensuring numeric",
   "id": "478fdd6160a46544"
  },
  {
   "metadata": {
    "ExecuteTime": {
     "end_time": "2025-05-13T12:55:45.184451Z",
     "start_time": "2025-05-13T12:55:45.181936Z"
    }
   },
   "cell_type": "code",
   "source": [
    "df_gdp['GDP_per_capita_PPP'] = pd.to_numeric(df_gdp['GDP_per_capita_PPP'])\n",
    "df_pop['Population'] = pd.to_numeric(df_pop['Population'])"
   ],
   "id": "eacee6de06ebe8ae",
   "outputs": [],
   "execution_count": 168
  },
  {
   "metadata": {},
   "cell_type": "markdown",
   "source": "### d) print thing",
   "id": "18395e2b3147b0d0"
  },
  {
   "metadata": {
    "ExecuteTime": {
     "end_time": "2025-05-13T13:04:08.467223Z",
     "start_time": "2025-05-13T13:04:08.456552Z"
    }
   },
   "cell_type": "code",
   "source": [
    "# Process GDP DataFrame\n",
    "gdp_before = df_gdp.head(5)\n",
    "gdp_before.to_csv(output_path + \"gdp_before_sort.csv\", index=False)\n",
    "\n",
    "gdp_sorted = df_gdp.sort_values(by=\"Country\", ascending=True)\n",
    "gdp_after = gdp_sorted.head(5)\n",
    "gdp_after.to_csv(output_path + \"gdp_after_sort.csv\", index=False)\n",
    "\n",
    "# Process Population DataFrame\n",
    "pop_before = df_pop.head(5)\n",
    "pop_before.to_csv(output_path + \"pop_before_sort.csv\", index=False)\n",
    "\n",
    "pop_sorted = df_pop.sort_values(by=\"Country\", ascending=True)\n",
    "pop_after = pop_sorted.head(5)\n",
    "pop_after.to_csv(output_path + \"pop_after_sort.csv\", index=False)\n",
    "\n",
    "# Print outputs (optional for console/logging purposes)\n",
    "print(\"GDP Before Sort:\\n\", gdp_before)\n",
    "print(\"GDP After Sort:\\n\", gdp_after)\n",
    "print(\"Population Before Sort:\\n\", pop_before)\n",
    "print(\"Population After Sort:\\n\", pop_after)\n"
   ],
   "id": "55dca28379c57b1b",
   "outputs": [
    {
     "name": "stdout",
     "output_type": "stream",
     "text": [
      "GDP Before Sort:\n",
      "        Country  GDP_per_capita_PPP\n",
      "0  Afghanistan           2144.1665\n",
      "1      Albania          16353.8090\n",
      "2      Algeria          14496.8650\n",
      "3      Andorra          59332.2030\n",
      "4       Angola           7408.1265\n",
      "GDP After Sort:\n",
      "        Country  GDP_per_capita_PPP\n",
      "0  Afghanistan           2144.1665\n",
      "1      Albania          16353.8090\n",
      "2      Algeria          14496.8650\n",
      "3      Andorra          59332.2030\n",
      "4       Angola           7408.1265\n",
      "Population Before Sort:\n",
      "        Country  Population\n",
      "0  Afghanistan    40000360\n",
      "1       Africa  1413750475\n",
      "2  Africa (UN)  1413753005\n",
      "3      Albania     2849591\n",
      "4      Algeria    44761051\n",
      "Population After Sort:\n",
      "        Country  Population\n",
      "0  Afghanistan    40000360\n",
      "1       Africa  1413750475\n",
      "2  Africa (UN)  1413753005\n",
      "3      Albania     2849591\n",
      "4      Algeria    44761051\n"
     ]
    }
   ],
   "execution_count": 170
  },
  {
   "metadata": {},
   "cell_type": "markdown",
   "source": "### e) describe",
   "id": "b7466ae9f8505d49"
  },
  {
   "metadata": {
    "ExecuteTime": {
     "end_time": "2025-05-13T13:22:49.010534Z",
     "start_time": "2025-05-13T13:22:49.003447Z"
    }
   },
   "cell_type": "code",
   "source": [
    "df_pop.describe().to_csv(output_path + \"pop_describe.csv\")\n",
    "df_gdp.describe().to_csv(output_path + \"gdp_describe.csv\")"
   ],
   "id": "19d6b3f074ecf6a9",
   "outputs": [],
   "execution_count": 172
  },
  {
   "metadata": {},
   "cell_type": "markdown",
   "source": "## For Part 1 review",
   "id": "ae8cf537888f56be"
  },
  {
   "metadata": {
    "ExecuteTime": {
     "end_time": "2025-05-13T13:32:21.059919Z",
     "start_time": "2025-05-13T13:32:21.056744Z"
    }
   },
   "cell_type": "code",
   "source": [
    "print(f'df_demographics shape: {df_demographics.shape}')\n",
    "print(f'df_gdp shape: {df_gdp.shape}')\n",
    "print(f'df_pop shape: {df_pop.shape}')"
   ],
   "id": "c198669bd1915906",
   "outputs": [
    {
     "name": "stdout",
     "output_type": "stream",
     "text": [
      "df_demographics shape: (201, 7)\n",
      "df_gdp shape: (213, 2)\n",
      "df_pop shape: (260, 2)\n"
     ]
    }
   ],
   "execution_count": 175
  },
  {
   "metadata": {
    "ExecuteTime": {
     "end_time": "2025-05-13T13:34:43.065269Z",
     "start_time": "2025-05-13T13:34:43.062264Z"
    }
   },
   "cell_type": "code",
   "source": "print(f'Pearson correlation between LifeExpectancy Both and PopulationDensity is {df_demographics[\"LifeExpectancy_Both\"].corr(df_demographics[\"PopulationDensity\"])}')",
   "id": "1fa777b716272339",
   "outputs": [
    {
     "name": "stdout",
     "output_type": "stream",
     "text": [
      "Pearson correlation between LifeExpectancy Both and PopulationDensity is 0.09810860899481587\n"
     ]
    }
   ],
   "execution_count": 186
  },
  {
   "metadata": {},
   "cell_type": "code",
   "outputs": [],
   "execution_count": null,
   "source": "",
   "id": "c1e1317ed51957b8"
  }
 ],
 "metadata": {
  "kernelspec": {
   "display_name": "Python 3",
   "language": "python",
   "name": "python3"
  },
  "language_info": {
   "codemirror_mode": {
    "name": "ipython",
    "version": 2
   },
   "file_extension": ".py",
   "mimetype": "text/x-python",
   "name": "python",
   "nbconvert_exporter": "python",
   "pygments_lexer": "ipython2",
   "version": "2.7.6"
  }
 },
 "nbformat": 4,
 "nbformat_minor": 5
}
